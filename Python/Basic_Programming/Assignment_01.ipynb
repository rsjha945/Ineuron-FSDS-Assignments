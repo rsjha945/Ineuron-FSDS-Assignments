{
 "cells": [
  {
   "cell_type": "markdown",
   "id": "d5cc4a54",
   "metadata": {},
   "source": [
    "#### 1.\tWrite a Python program to print \"Hello Python\"?"
   ]
  },
  {
   "cell_type": "code",
   "execution_count": 1,
   "id": "3b81bddb",
   "metadata": {},
   "outputs": [
    {
     "name": "stdout",
     "output_type": "stream",
     "text": [
      "Hello Python\n"
     ]
    }
   ],
   "source": [
    "print(\"Hello Python\")"
   ]
  },
  {
   "cell_type": "markdown",
   "id": "513bd32c",
   "metadata": {},
   "source": [
    "#### 2.\tWrite a Python program to do arithmetical operations addition and division.?"
   ]
  },
  {
   "cell_type": "code",
   "execution_count": 15,
   "id": "f56ff5ce",
   "metadata": {},
   "outputs": [],
   "source": [
    "def addition(x, y):\n",
    "    return x+y\n",
    "\n",
    "def division(x, y):\n",
    "    try:\n",
    "        return x/y\n",
    "    except ZeroDivisionError as e:\n",
    "        print(e)\n",
    "        print(\"can not divide by zero\")"
   ]
  },
  {
   "cell_type": "code",
   "execution_count": 16,
   "id": "b54e3c11",
   "metadata": {},
   "outputs": [
    {
     "data": {
      "text/plain": [
       "5"
      ]
     },
     "execution_count": 16,
     "metadata": {},
     "output_type": "execute_result"
    }
   ],
   "source": [
    "addition(2, 3)"
   ]
  },
  {
   "cell_type": "code",
   "execution_count": 17,
   "id": "c84f6e86",
   "metadata": {},
   "outputs": [
    {
     "name": "stdout",
     "output_type": "stream",
     "text": [
      "division by zero\n",
      "can not divide by zero\n"
     ]
    }
   ],
   "source": [
    "division(3, 0)"
   ]
  },
  {
   "cell_type": "markdown",
   "id": "fec3aa52",
   "metadata": {},
   "source": [
    "#### 3.\tWrite a Python program to find the area of a triangle?"
   ]
  },
  {
   "cell_type": "code",
   "execution_count": 45,
   "id": "7d0479c2",
   "metadata": {},
   "outputs": [],
   "source": [
    "import logging as lg\n",
    "\n",
    "def area_traiangle(base, height):\n",
    "    \"\"\"\n",
    "        triangle of area is length times base division by 2.\n",
    "    \"\"\"\n",
    "    lg.basicConfig(filename='msg1.log', format='%(name)s - %(levelname)s - %(message)s', datefmt='%d-%b-%y %H:%M:%S')  \n",
    "    try:\n",
    "        area = (base * height) / 2\n",
    "        print(area)\n",
    "    except Exception as e:\n",
    "        lg.error(\"Exception occurred\", exc_info=True)  \n",
    "        print(e)\n",
    "        "
   ]
  },
  {
   "cell_type": "code",
   "execution_count": 46,
   "id": "afdc0779",
   "metadata": {},
   "outputs": [
    {
     "name": "stdout",
     "output_type": "stream",
     "text": [
      "5.0\n"
     ]
    }
   ],
   "source": [
    "area_traiangle(5, 2)"
   ]
  },
  {
   "cell_type": "markdown",
   "id": "16342cbf",
   "metadata": {},
   "source": [
    "#### 4.\tWrite a Python program to swap two variables?"
   ]
  },
  {
   "cell_type": "code",
   "execution_count": 55,
   "id": "632dbb40",
   "metadata": {},
   "outputs": [],
   "source": [
    "import logging as lg\n",
    "\n",
    "def swap_var(a, b):\n",
    "    \"\"\"\n",
    "    after swapping a and b, a will store the value of b and b will store the value of a\n",
    "    \"\"\"\n",
    "    lg.basicConfig(filename='msg2.log', level=lg.INFO, format='%(asctime)s - %(message)s', datefmt='%d-%b-%y %H:%M:%S')\n",
    "    logger = lg.getLogger()\n",
    "    lg.info('Logging info')\n",
    "    \n",
    "    a, b = b, a\n",
    "    print(a, b)"
   ]
  },
  {
   "cell_type": "code",
   "execution_count": 56,
   "id": "d20788cf",
   "metadata": {},
   "outputs": [
    {
     "name": "stdout",
     "output_type": "stream",
     "text": [
      "30 20\n"
     ]
    }
   ],
   "source": [
    "swap_var(20, 30)"
   ]
  },
  {
   "cell_type": "markdown",
   "id": "040a9c7b",
   "metadata": {},
   "source": [
    "#### 5.\tWrite a Python program to generate a random number?"
   ]
  },
  {
   "cell_type": "code",
   "execution_count": 60,
   "id": "69cfb493",
   "metadata": {},
   "outputs": [
    {
     "name": "stdout",
     "output_type": "stream",
     "text": [
      "0.7253468041925\n"
     ]
    }
   ],
   "source": [
    "import random\n",
    "import logging as lg\n",
    "\n",
    "lg.basicConfig(filename='random.log', format='%(asctime)s - %(message)s', datefmt='%d-%b-%y %H:%M:%S')\n",
    "logger = lg.getLogger()\n",
    "n = random.random()\n",
    "lg.info('Random number info')\n",
    "print(n)"
   ]
  }
 ],
 "metadata": {
  "kernelspec": {
   "display_name": "Python 3",
   "language": "python",
   "name": "python3"
  },
  "language_info": {
   "codemirror_mode": {
    "name": "ipython",
    "version": 3
   },
   "file_extension": ".py",
   "mimetype": "text/x-python",
   "name": "python",
   "nbconvert_exporter": "python",
   "pygments_lexer": "ipython3",
   "version": "3.8.8"
  }
 },
 "nbformat": 4,
 "nbformat_minor": 5
}
