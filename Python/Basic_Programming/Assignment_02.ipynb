{
 "cells": [
  {
   "cell_type": "markdown",
   "id": "f79db250",
   "metadata": {},
   "source": [
    "#### 1.\tWrite a Python program to convert kilometers to miles?"
   ]
  },
  {
   "cell_type": "code",
   "execution_count": 28,
   "id": "61616cea",
   "metadata": {},
   "outputs": [],
   "source": [
    "import logging as lg\n",
    "\n",
    "def miles_conversion(km):\n",
    "    \"\"\"\n",
    "    1km is 0.63 miles so to convert km in miles multiply km times 0.63 \n",
    "    \"\"\"\n",
    "    lg.basicConfig(filename='miles.log', format='%(name)s - %(levelname)s - %(message)s', datefmt='%d-%b-%y %H:%M:%S')\n",
    "    try:\n",
    "        miles = km * 0.63\n",
    "        print(\"{} km in miles is: {}\".format(km, miles))\n",
    "    except Exception as e:\n",
    "        lg.error(\"Exception occurred\", exc_info=True)  \n",
    "        print(e)"
   ]
  },
  {
   "cell_type": "code",
   "execution_count": 30,
   "id": "3b596160",
   "metadata": {},
   "outputs": [
    {
     "name": "stdout",
     "output_type": "stream",
     "text": [
      "10 km in miles is: 6.3\n"
     ]
    }
   ],
   "source": [
    "miles_conversion(10)"
   ]
  },
  {
   "cell_type": "markdown",
   "id": "ec37cdb4",
   "metadata": {},
   "source": [
    "#### 2.\tWrite a Python program to convert Celsius to Fahrenheit?"
   ]
  },
  {
   "cell_type": "code",
   "execution_count": 48,
   "id": "0af6bbbf",
   "metadata": {},
   "outputs": [],
   "source": [
    "import logging as lg\n",
    "\n",
    "def celcius_conversion(cel):\n",
    "    \"\"\"\n",
    "    conversion of celcius to fahrenheit\n",
    "    \"\"\"\n",
    "    lg.basicConfig(filename='celcius.log', format='%(name)s - %(levelname)s - %(message)s', datefmt='%d-%b-%y %H:%M:%S')\n",
    "    try:\n",
    "        far = cel * (9/5) + 32\n",
    "        lg.info('celcius to fahenheit')\n",
    "        print(far)\n",
    "    except Exception as e:\n",
    "        print(e)"
   ]
  },
  {
   "cell_type": "code",
   "execution_count": 49,
   "id": "1ebcae35",
   "metadata": {},
   "outputs": [
    {
     "name": "stdout",
     "output_type": "stream",
     "text": [
      "50.0\n"
     ]
    }
   ],
   "source": [
    "celcius_conversion(10)"
   ]
  },
  {
   "cell_type": "markdown",
   "id": "e27acb0b",
   "metadata": {},
   "source": [
    "#### 3.\tWrite a Python program to display calendar? "
   ]
  },
  {
   "cell_type": "code",
   "execution_count": 23,
   "id": "bab4468f",
   "metadata": {},
   "outputs": [],
   "source": [
    "import calendar\n",
    "import logging as lg\n",
    "\n",
    "def display_calendar():\n",
    "    try:\n",
    "        lg.basicConfig(filename='celendar.log', format='%(name)s - %(levelname)s - %(message)s', datefmt='%d-%b-%y %H:%M:%S')\n",
    "        year = int(input(\"Enter year:\"))\n",
    "        lg.info('Calendar')\n",
    "        print(calendar.calendar(year))\n",
    "    except Exception as e:\n",
    "        print(e)"
   ]
  },
  {
   "cell_type": "code",
   "execution_count": 25,
   "id": "daf3aad2",
   "metadata": {},
   "outputs": [
    {
     "name": "stdout",
     "output_type": "stream",
     "text": [
      "Enter year:2022\n",
      "                                  2022\n",
      "\n",
      "      January                   February                   March\n",
      "Mo Tu We Th Fr Sa Su      Mo Tu We Th Fr Sa Su      Mo Tu We Th Fr Sa Su\n",
      "                1  2          1  2  3  4  5  6          1  2  3  4  5  6\n",
      " 3  4  5  6  7  8  9       7  8  9 10 11 12 13       7  8  9 10 11 12 13\n",
      "10 11 12 13 14 15 16      14 15 16 17 18 19 20      14 15 16 17 18 19 20\n",
      "17 18 19 20 21 22 23      21 22 23 24 25 26 27      21 22 23 24 25 26 27\n",
      "24 25 26 27 28 29 30      28                        28 29 30 31\n",
      "31\n",
      "\n",
      "       April                      May                       June\n",
      "Mo Tu We Th Fr Sa Su      Mo Tu We Th Fr Sa Su      Mo Tu We Th Fr Sa Su\n",
      "             1  2  3                         1             1  2  3  4  5\n",
      " 4  5  6  7  8  9 10       2  3  4  5  6  7  8       6  7  8  9 10 11 12\n",
      "11 12 13 14 15 16 17       9 10 11 12 13 14 15      13 14 15 16 17 18 19\n",
      "18 19 20 21 22 23 24      16 17 18 19 20 21 22      20 21 22 23 24 25 26\n",
      "25 26 27 28 29 30         23 24 25 26 27 28 29      27 28 29 30\n",
      "                          30 31\n",
      "\n",
      "        July                     August                  September\n",
      "Mo Tu We Th Fr Sa Su      Mo Tu We Th Fr Sa Su      Mo Tu We Th Fr Sa Su\n",
      "             1  2  3       1  2  3  4  5  6  7                1  2  3  4\n",
      " 4  5  6  7  8  9 10       8  9 10 11 12 13 14       5  6  7  8  9 10 11\n",
      "11 12 13 14 15 16 17      15 16 17 18 19 20 21      12 13 14 15 16 17 18\n",
      "18 19 20 21 22 23 24      22 23 24 25 26 27 28      19 20 21 22 23 24 25\n",
      "25 26 27 28 29 30 31      29 30 31                  26 27 28 29 30\n",
      "\n",
      "      October                   November                  December\n",
      "Mo Tu We Th Fr Sa Su      Mo Tu We Th Fr Sa Su      Mo Tu We Th Fr Sa Su\n",
      "                1  2          1  2  3  4  5  6                1  2  3  4\n",
      " 3  4  5  6  7  8  9       7  8  9 10 11 12 13       5  6  7  8  9 10 11\n",
      "10 11 12 13 14 15 16      14 15 16 17 18 19 20      12 13 14 15 16 17 18\n",
      "17 18 19 20 21 22 23      21 22 23 24 25 26 27      19 20 21 22 23 24 25\n",
      "24 25 26 27 28 29 30      28 29 30                  26 27 28 29 30 31\n",
      "31\n",
      "\n"
     ]
    }
   ],
   "source": [
    "display_calendar()"
   ]
  },
  {
   "cell_type": "markdown",
   "id": "58f65589",
   "metadata": {},
   "source": [
    "#### 4.\tWrite a Python program to solve quadratic equation?"
   ]
  },
  {
   "cell_type": "code",
   "execution_count": 49,
   "id": "de69303b",
   "metadata": {},
   "outputs": [],
   "source": [
    "import math\n",
    "\n",
    "def quardatic_equation():\n",
    "    try:\n",
    "        a = int(input(\"Enter the value of a: \"))\n",
    "        b = int(input(\"Enter the value of b: \"))\n",
    "        c = int(input(\"Enter the value of c: \"))\n",
    "        sq1 = b*b - 4*a*c\n",
    "        sq = math.sqrt(sq1)\n",
    "        x_p = (-b + sq)/(2*a)\n",
    "        x_n = (-b - sq)/(2*a)\n",
    "        print(x_p,  x_n)\n",
    "    except Exception as e:\n",
    "        print(e)"
   ]
  },
  {
   "cell_type": "code",
   "execution_count": 50,
   "id": "fa80eda9",
   "metadata": {},
   "outputs": [
    {
     "name": "stdout",
     "output_type": "stream",
     "text": [
      "Enter the value of a: 2\n",
      "Enter the value of b: 5\n",
      "Enter the value of c: 2\n",
      "-0.5 -2.0\n"
     ]
    }
   ],
   "source": [
    "quardatic_equation()"
   ]
  },
  {
   "cell_type": "markdown",
   "id": "34cc7620",
   "metadata": {},
   "source": [
    "#### 5.\tWrite a Python program to swap two variables without temp variable?"
   ]
  },
  {
   "cell_type": "code",
   "execution_count": 62,
   "id": "d8abb89d",
   "metadata": {},
   "outputs": [
    {
     "name": "stdout",
     "output_type": "stream",
     "text": [
      "Enter first variable: 5\n",
      "Enter second vsriable: 10\n",
      "original variables are 5, 10\n",
      "After swapping variables are 10, 5\n"
     ]
    }
   ],
   "source": [
    "def swap_var(a, b):\n",
    "    \"\"\"\n",
    "    swapping two variables without using third variable\n",
    "    \n",
    "    \"\"\"\n",
    "    print('original variables are {}, {}'.format(a, b))\n",
    "    a, b = b, a\n",
    "    return a, b\n",
    "\n",
    "x = input(\"Enter first variable: \")\n",
    "y = input(\"Enter second vsriable: \")\n",
    "m , n = swap_var(x, y)\n",
    "print(\"After swapping variables are {}, {}\".format(m, n))"
   ]
  }
 ],
 "metadata": {
  "kernelspec": {
   "display_name": "Python 3",
   "language": "python",
   "name": "python3"
  },
  "language_info": {
   "codemirror_mode": {
    "name": "ipython",
    "version": 3
   },
   "file_extension": ".py",
   "mimetype": "text/x-python",
   "name": "python",
   "nbconvert_exporter": "python",
   "pygments_lexer": "ipython3",
   "version": "3.8.8"
  }
 },
 "nbformat": 4,
 "nbformat_minor": 5
}
