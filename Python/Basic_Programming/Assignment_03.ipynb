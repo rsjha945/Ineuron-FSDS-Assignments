{
 "cells": [
  {
   "cell_type": "markdown",
   "id": "d40076a1",
   "metadata": {},
   "source": [
    "#### 1.\tWrite a Python Program to Check if a Number is Positive, Negative or Zero?"
   ]
  },
  {
   "cell_type": "code",
   "execution_count": 7,
   "id": "8e39d246",
   "metadata": {},
   "outputs": [
    {
     "name": "stdout",
     "output_type": "stream",
     "text": [
      "Enter number: 200\n",
      "200 is positive number\n"
     ]
    }
   ],
   "source": [
    "import logging as lg\n",
    "\n",
    "def check_num():\n",
    "    \"\"\"\n",
    "    this program will check the number is positive, negative or zero\n",
    "    \"\"\"\n",
    "    \n",
    "    try:\n",
    "        lg.basicConfig(filename='check_num.log', format='%(name)s - %(levelname)s - %(message)s', datefmt='%d-%b-%y %H:%M:%S')\n",
    "        x = int(input('Enter number: '))\n",
    "        if x < 0:\n",
    "            print('{} is negative number'.format(x))\n",
    "        elif x == 0:\n",
    "            print('{} is equal to zero'.format(x))\n",
    "        else:\n",
    "            print('{} is positive number'.format(x))\n",
    "    \n",
    "    except Exception as e:\n",
    "        print(e)\n",
    "    \n",
    "check_num()"
   ]
  },
  {
   "cell_type": "markdown",
   "id": "53462650",
   "metadata": {},
   "source": [
    "#### 2.\tWrite a Python Program to Check if a Number is Odd or Even?"
   ]
  },
  {
   "cell_type": "code",
   "execution_count": 13,
   "id": "4ef3862e",
   "metadata": {},
   "outputs": [
    {
     "name": "stdout",
     "output_type": "stream",
     "text": [
      "Enter the number: 10\n",
      "10 is even number\n"
     ]
    }
   ],
   "source": [
    "import logging as lg\n",
    "\n",
    "def odd_even():\n",
    "    \"\"\"\n",
    "    program to check that a number is even or odd.\n",
    "    if number is divisible by 2 then it is even number otherwise the number is odd.\n",
    "    \"\"\"\n",
    "    try:\n",
    "        lg.basicConfig(filename='odd_even.log', format='%(name)s - %(message)s', datefmt='%d-%b-%y %H:%M:%S')\n",
    "        num = int(input(\"Enter the number: \"))\n",
    "        if num % 2 == 0:\n",
    "            print(\"{} is even number\".format(num))\n",
    "        else:\n",
    "            print('{} is odd number'. format(num))\n",
    "    except Exception as e:\n",
    "        print(e)\n",
    "        \n",
    "odd_even()"
   ]
  },
  {
   "cell_type": "code",
   "execution_count": null,
   "id": "94a72ca6",
   "metadata": {},
   "outputs": [],
   "source": []
  }
 ],
 "metadata": {
  "kernelspec": {
   "display_name": "Python 3",
   "language": "python",
   "name": "python3"
  },
  "language_info": {
   "codemirror_mode": {
    "name": "ipython",
    "version": 3
   },
   "file_extension": ".py",
   "mimetype": "text/x-python",
   "name": "python",
   "nbconvert_exporter": "python",
   "pygments_lexer": "ipython3",
   "version": "3.8.8"
  }
 },
 "nbformat": 4,
 "nbformat_minor": 5
}
