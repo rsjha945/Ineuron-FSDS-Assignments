{
 "cells": [
  {
   "cell_type": "markdown",
   "id": "64670010",
   "metadata": {},
   "source": [
    "#### 1. Is the Python Standard Library included with PyInputPlus?"
   ]
  },
  {
   "cell_type": "code",
   "execution_count": null,
   "id": "174562ac",
   "metadata": {},
   "outputs": [],
   "source": [
    "Python standard library does not included PyInputPlus. To use this module we have to install this module using pip command.\n",
    "pip install PyInputPlus."
   ]
  },
  {
   "cell_type": "markdown",
   "id": "51508d5c",
   "metadata": {},
   "source": [
    "#### 2. Why is PyInputPlus commonly imported with import pyinputplus as pypi?"
   ]
  },
  {
   "cell_type": "code",
   "execution_count": null,
   "id": "0842220f",
   "metadata": {},
   "outputs": [],
   "source": [
    "while importing the PyInputPlus we can give a alias name pypi to PyInputPlus so that we can use shorter name while calling the module's function."
   ]
  },
  {
   "cell_type": "markdown",
   "id": "bb0b14a4",
   "metadata": {},
   "source": [
    "#### 3. How do you distinguish between inputInt() and inputFloat()?"
   ]
  },
  {
   "cell_type": "code",
   "execution_count": null,
   "id": "d5b29940",
   "metadata": {},
   "outputs": [],
   "source": [
    "inputInt() accepts an integer value and also returns a integer value.\n",
    "inputFloat() accepts a floating point numeric value and also return a float value."
   ]
  },
  {
   "cell_type": "markdown",
   "id": "10cfb089",
   "metadata": {},
   "source": [
    "#### 4. Using PyInputPlus, how do you ensure that the user enters a whole number between 0 and 99?"
   ]
  },
  {
   "cell_type": "code",
   "execution_count": null,
   "id": "ec630bf5",
   "metadata": {},
   "outputs": [],
   "source": [
    "import pyinputplus as pyip\n",
    "pypi.inputInt(min=0, max=99), by this we can ensure that the user enters a whole number between 0 and 99."
   ]
  },
  {
   "cell_type": "markdown",
   "id": "d74d1f24",
   "metadata": {},
   "source": [
    "#### 5. What is transferred to the keyword arguments allowRegexes and blockRegexes?"
   ]
  },
  {
   "cell_type": "code",
   "execution_count": null,
   "id": "aa4f38df",
   "metadata": {},
   "outputs": [],
   "source": [
    "blockRegexes can block the certain inputs by setting the blockRegexes parameters values as the regex pattern we want to invalidate.\n",
    "allowRegexes allows any input values by setting the allowRegexes parameters values as the regex pattern we want to validate."
   ]
  },
  {
   "cell_type": "markdown",
   "id": "0aa916bd",
   "metadata": {},
   "source": [
    "#### 6. If a blank input is entered three times, what does inputStr(limit=3) do?"
   ]
  },
  {
   "cell_type": "code",
   "execution_count": null,
   "id": "051a8aa2",
   "metadata": {},
   "outputs": [],
   "source": [
    "After three unsuccessful try it will raise an error limitOrTimeoutException. To avoid error we have to set blank=True in the inputStr()."
   ]
  },
  {
   "cell_type": "markdown",
   "id": "aa85ab20",
   "metadata": {},
   "source": [
    "#### 7. If blank input is entered three times, what does inputStr(limit=3, default='hello') do?"
   ]
  },
  {
   "cell_type": "code",
   "execution_count": null,
   "id": "0dd6c5ef",
   "metadata": {},
   "outputs": [],
   "source": [
    "After 3 unsuccessful try it will give the default value 'hello'"
   ]
  }
 ],
 "metadata": {
  "kernelspec": {
   "display_name": "Python 3",
   "language": "python",
   "name": "python3"
  },
  "language_info": {
   "codemirror_mode": {
    "name": "ipython",
    "version": 3
   },
   "file_extension": ".py",
   "mimetype": "text/x-python",
   "name": "python",
   "nbconvert_exporter": "python",
   "pygments_lexer": "ipython3",
   "version": "3.8.8"
  }
 },
 "nbformat": 4,
 "nbformat_minor": 5
}
