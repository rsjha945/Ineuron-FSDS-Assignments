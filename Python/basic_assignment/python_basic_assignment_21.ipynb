{
 "cells": [
  {
   "cell_type": "markdown",
   "id": "5d3bcb5c",
   "metadata": {},
   "source": [
    "#### 1. Add the current date to the text file today.txt as a string."
   ]
  },
  {
   "cell_type": "code",
   "execution_count": null,
   "id": "607b1613",
   "metadata": {},
   "outputs": [],
   "source": []
  },
  {
   "cell_type": "markdown",
   "id": "223e61c4",
   "metadata": {},
   "source": [
    "#### 2. Read the text file today.txt into the string today_string"
   ]
  },
  {
   "cell_type": "code",
   "execution_count": 2,
   "id": "d385c15c",
   "metadata": {},
   "outputs": [],
   "source": [
    "today_string = open('today.txt', 'r')"
   ]
  },
  {
   "cell_type": "markdown",
   "id": "8430d156",
   "metadata": {},
   "source": [
    "#### 3. Parse the date from today_string."
   ]
  },
  {
   "cell_type": "code",
   "execution_count": 3,
   "id": "40099dab",
   "metadata": {},
   "outputs": [
    {
     "data": {
      "text/plain": [
       "'current_date = \"14-02-2022\"'"
      ]
     },
     "execution_count": 3,
     "metadata": {},
     "output_type": "execute_result"
    }
   ],
   "source": [
    "today_string.read()"
   ]
  },
  {
   "cell_type": "markdown",
   "id": "4cc32701",
   "metadata": {},
   "source": [
    "#### 4. List the files in your current directory"
   ]
  },
  {
   "cell_type": "code",
   "execution_count": 9,
   "id": "200d0c3d",
   "metadata": {},
   "outputs": [
    {
     "name": "stdout",
     "output_type": "stream",
     "text": [
      " Volume in drive C is Acer\n",
      " Volume Serial Number is 46BE-A33E\n",
      "\n",
      " Directory of C:\\Users\\acer\\Full Stack Data Science Course\\Python Assignment\n",
      "\n",
      "14-02-2022  14:50    <DIR>          .\n",
      "29-01-2022  08:26    <DIR>          ..\n",
      "14-02-2022  14:42    <DIR>          .ipynb_checkpoints\n",
      "03-02-2022  17:12    <DIR>          __pycache__\n",
      "08-02-2022  22:24             3,501 archive.zip\n",
      "28-12-2021  21:17             5,104 Assignment_1.ipynb\n",
      "26-12-2021  21:48             8,542 Assignment_2.ipynb\n",
      "13-01-2022  22:33             6,628 Assignment_3.ipynb\n",
      "14-01-2022  22:12             7,667 Assignment_4.ipynb\n",
      "14-02-2022  14:37    <DIR>          Assignment_Questions\n",
      "03-02-2022  21:45               264 books.csv\n",
      "27-01-2022  10:10             4,188 python_basic_assignment_10.ipynb\n",
      "31-01-2022  21:35             6,576 python_basic_assignment_11.ipynb\n",
      "31-01-2022  22:50             5,118 python_basic_assignment_12.ipynb\n",
      "01-02-2022  18:58             3,569 python_basic_Assignment_13.ipynb\n",
      "01-02-2022  21:23             4,089 python_basic_assignment_14.ipynb\n",
      "02-02-2022  20:20             5,616 python_basic_assignment_15.ipynb\n",
      "02-02-2022  22:11             9,772 python_basic_assignment_16.ipynb\n",
      "03-02-2022  17:03             5,415 python_basic_assignment_17.ipynb\n",
      "03-02-2022  17:55             4,851 python_basic_assignment_18.ipynb\n",
      "03-02-2022  20:16             9,364 python_basic_assignment_19.ipynb\n",
      "03-02-2022  21:49             3,342 python_basic_assignment_20.ipynb\n",
      "14-02-2022  14:50             4,637 python_basic_assignment_21.ipynb\n",
      "16-01-2022  13:05             3,701 python_basic_assignment_5.ipynb\n",
      "16-01-2022  14:53             5,186 python_basic_assignment_6.ipynb\n",
      "16-01-2022  14:55               576 python_basic_assignment_7.ipynb\n",
      "19-01-2022  22:23             3,495 python_basic_assignment_8.ipynb\n",
      "20-01-2022  22:02             3,940 python_basic_assignment_9.ipynb\n",
      "03-02-2022  21:16                43 test.txt\n",
      "14-02-2022  14:44                27 today.txt\n",
      "03-02-2022  17:10                40 zoo.py\n",
      "              26 File(s)        115,251 bytes\n",
      "               5 Dir(s)  134,579,920,896 bytes free\n"
     ]
    }
   ],
   "source": [
    "ls"
   ]
  },
  {
   "cell_type": "markdown",
   "id": "b6ae43fa",
   "metadata": {},
   "source": [
    "#### 5. Create a list of all of the files in your parent directory (minimum five files should be available)."
   ]
  },
  {
   "cell_type": "code",
   "execution_count": 14,
   "id": "ced0ee13",
   "metadata": {},
   "outputs": [
    {
     "data": {
      "text/plain": [
       "'C:\\\\Users\\\\acer\\\\Full Stack Data Science Course\\\\Python Assignment'"
      ]
     },
     "execution_count": 14,
     "metadata": {},
     "output_type": "execute_result"
    }
   ],
   "source": [
    "import os\n",
    "os.getcwd()"
   ]
  },
  {
   "cell_type": "code",
   "execution_count": 16,
   "id": "1d67530f",
   "metadata": {},
   "outputs": [],
   "source": [
    "os.chdir('C:\\\\Users\\\\acer\\\\Full Stack Data Science Course')"
   ]
  },
  {
   "cell_type": "code",
   "execution_count": 19,
   "id": "351b9108",
   "metadata": {},
   "outputs": [
    {
     "data": {
      "text/plain": [
       "'C:\\\\Users\\\\acer\\\\Full Stack Data Science Course'"
      ]
     },
     "execution_count": 19,
     "metadata": {},
     "output_type": "execute_result"
    }
   ],
   "source": [
    "os.getcwd()"
   ]
  },
  {
   "cell_type": "code",
   "execution_count": 21,
   "id": "50925272",
   "metadata": {},
   "outputs": [
    {
     "data": {
      "text/plain": [
       "['.ipynb_checkpoints',\n",
       " 'demo_dir',\n",
       " 'filtxt1.txt',\n",
       " 'filtxt2.txt',\n",
       " 'filtxt3.txt',\n",
       " 'filtxt4.txt',\n",
       " 'filtxt5.txt',\n",
       " 'filtxt6.txt',\n",
       " 'filtxt7.txt',\n",
       " 'HomeWorks',\n",
       " 'Live clss Assignments',\n",
       " 'Python',\n",
       " 'Python Assignment']"
      ]
     },
     "execution_count": 21,
     "metadata": {},
     "output_type": "execute_result"
    }
   ],
   "source": [
    "os.listdir()"
   ]
  },
  {
   "cell_type": "code",
   "execution_count": null,
   "id": "83783185",
   "metadata": {},
   "outputs": [],
   "source": []
  }
 ],
 "metadata": {
  "kernelspec": {
   "display_name": "Python 3",
   "language": "python",
   "name": "python3"
  },
  "language_info": {
   "codemirror_mode": {
    "name": "ipython",
    "version": 3
   },
   "file_extension": ".py",
   "mimetype": "text/x-python",
   "name": "python",
   "nbconvert_exporter": "python",
   "pygments_lexer": "ipython3",
   "version": "3.8.8"
  }
 },
 "nbformat": 4,
 "nbformat_minor": 5
}
