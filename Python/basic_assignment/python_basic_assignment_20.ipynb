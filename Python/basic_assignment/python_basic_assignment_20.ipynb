{
 "cells": [
  {
   "cell_type": "markdown",
   "id": "a93b2dc4",
   "metadata": {},
   "source": [
    "#### 1. Set the variable test1 to the string 'This is a test of the emergency text system,' and save test1 to a file named test.txt."
   ]
  },
  {
   "cell_type": "code",
   "execution_count": 1,
   "id": "7f3d02c8",
   "metadata": {},
   "outputs": [],
   "source": [
    "test1 = 'This is a test of the emergency text system'\n",
    "f = open('test.txt', 'w')\n",
    "f.write(test1)\n",
    "f.close()"
   ]
  },
  {
   "cell_type": "markdown",
   "id": "03e5866a",
   "metadata": {},
   "source": [
    "#### 2. Read the contents of the file test.txt into the variable test2. Is there a difference between test 1 and test 2?"
   ]
  },
  {
   "cell_type": "code",
   "execution_count": 7,
   "id": "f5c59cee",
   "metadata": {},
   "outputs": [
    {
     "data": {
      "text/plain": [
       "'This is a test of the emergency text system'"
      ]
     },
     "execution_count": 7,
     "metadata": {},
     "output_type": "execute_result"
    }
   ],
   "source": [
    "test2 = open('test.txt', 'r')\n",
    "test2.read()"
   ]
  },
  {
   "cell_type": "code",
   "execution_count": 17,
   "id": "0c9546a3",
   "metadata": {},
   "outputs": [],
   "source": [
    "if test1 == test2:\n",
    "    print('Both test1 and test2 are same')"
   ]
  },
  {
   "cell_type": "markdown",
   "id": "eaa704f1",
   "metadata": {},
   "source": [
    "#### 3. Create a CSV file called books.csv by using these lines:\n",
    "##### title,author,year\n",
    "##### The Weirdstone of Brisingamen,Alan Garner,1960\n",
    "##### Perdido Street Station,China Miéville,2000\n",
    "##### Thud!,Terry Pratchett,2005\n",
    "##### The Spellman Files,Lisa Lutz,2007\n",
    "##### Small Gods,Terry Pratchett,1992"
   ]
  },
  {
   "cell_type": "code",
   "execution_count": 16,
   "id": "c9786206",
   "metadata": {},
   "outputs": [],
   "source": [
    "import csv\n",
    "\n",
    "data = [['title', 'author', 'year'],\n",
    "       ['The WeirdstoneofBrisingamen', 'Alan Garner', 1960],\n",
    "       ['Perdido Street Station', 'China Miéville', 1960],\n",
    "       ['Thud!', 'Terry Pratchett', 2005],\n",
    "       ['The Spellman Files', 'Lisa Lutz', 1992],\n",
    "       ['Small Gods', 'Terry Pratchett', 1992]]\n",
    "csv_file = open('books.csv', 'w', encoding='UTF8')\n",
    "writer = csv.writer(csv_file)\n",
    "\n",
    "writer.writerow(data)\n",
    "csv_file.close()"
   ]
  },
  {
   "cell_type": "markdown",
   "id": "fc467caf",
   "metadata": {},
   "source": [
    "#### 4. Use the sqlite3 module to create a SQLite database called books.db, and a table called books with these fields: title (text), author (text), and year (integer)."
   ]
  },
  {
   "cell_type": "code",
   "execution_count": null,
   "id": "4947821e",
   "metadata": {},
   "outputs": [],
   "source": []
  }
 ],
 "metadata": {
  "kernelspec": {
   "display_name": "Python 3",
   "language": "python",
   "name": "python3"
  },
  "language_info": {
   "codemirror_mode": {
    "name": "ipython",
    "version": 3
   },
   "file_extension": ".py",
   "mimetype": "text/x-python",
   "name": "python",
   "nbconvert_exporter": "python",
   "pygments_lexer": "ipython3",
   "version": "3.8.8"
  }
 },
 "nbformat": 4,
 "nbformat_minor": 5
}
