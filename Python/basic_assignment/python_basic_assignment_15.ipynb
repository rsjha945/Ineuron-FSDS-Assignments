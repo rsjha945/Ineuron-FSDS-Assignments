{
 "cells": [
  {
   "cell_type": "markdown",
   "id": "0a1d7f46",
   "metadata": {},
   "source": [
    "#### 1.How many seconds are in an hour? Use the interactive interpreter as a calculator and multiply the number of seconds in a minute (60) by the number of minutes in an hour (also 60).\n"
   ]
  },
  {
   "cell_type": "code",
   "execution_count": 5,
   "id": "745e3b8c",
   "metadata": {},
   "outputs": [],
   "source": [
    "seconds_per_min = 60\n",
    "min_per_hour = 60\n",
    "seconds_hour = seconds_per_hour * min_per_hour # 60*60\n",
    "seconds_hour = 3600"
   ]
  },
  {
   "cell_type": "markdown",
   "id": "f10eb53d",
   "metadata": {},
   "source": [
    "#### 2. Assign the result from the previous task (seconds in an hour) to a variable called seconds_per_hour"
   ]
  },
  {
   "cell_type": "code",
   "execution_count": 6,
   "id": "0c343503",
   "metadata": {},
   "outputs": [],
   "source": [
    "seconds_per_hour = 3600"
   ]
  },
  {
   "cell_type": "markdown",
   "id": "dae72ca1",
   "metadata": {},
   "source": [
    "#### 3. How many seconds do you think there are in a day? Make use of the variables seconds per hour and minutes per hour"
   ]
  },
  {
   "cell_type": "code",
   "execution_count": 10,
   "id": "fe9db53c",
   "metadata": {},
   "outputs": [],
   "source": [
    "hour_per_day = 24\n",
    "seconds_day = seconds_per_hour * hour_per_day # 3600*24\n",
    "seconds_day = 86400"
   ]
  },
  {
   "cell_type": "markdown",
   "id": "5d4a5910",
   "metadata": {},
   "source": [
    "#### 4. Calculate seconds per day again, but this time save the result in a variable called seconds_per_day"
   ]
  },
  {
   "cell_type": "code",
   "execution_count": 11,
   "id": "63c85f27",
   "metadata": {},
   "outputs": [],
   "source": [
    "hour_per_day = 24\n",
    "seconds_per_day = seconds_per_hour * hour_per_day # 3600*24\n",
    "seconds_per_day = 86400"
   ]
  },
  {
   "cell_type": "markdown",
   "id": "5fd7577f",
   "metadata": {},
   "source": [
    "#### 5. Divide seconds_per_day by seconds_per_hour. Use floating-point (/) division"
   ]
  },
  {
   "cell_type": "code",
   "execution_count": 12,
   "id": "846f2334",
   "metadata": {},
   "outputs": [
    {
     "data": {
      "text/plain": [
       "24.0"
      ]
     },
     "execution_count": 12,
     "metadata": {},
     "output_type": "execute_result"
    }
   ],
   "source": [
    "seconds_per_day / seconds_per_hour"
   ]
  },
  {
   "cell_type": "markdown",
   "id": "9712710e",
   "metadata": {},
   "source": [
    "#### 6. Divide seconds_per_day by seconds_per_hour, using integer (//) division. Did this number agree with the floating-point value from the previous question, aside from the final .0?"
   ]
  },
  {
   "cell_type": "code",
   "execution_count": 14,
   "id": "31159593",
   "metadata": {},
   "outputs": [
    {
     "data": {
      "text/plain": [
       "24"
      ]
     },
     "execution_count": 14,
     "metadata": {},
     "output_type": "execute_result"
    }
   ],
   "source": [
    "seconds_per_day // seconds_per_hour"
   ]
  },
  {
   "cell_type": "markdown",
   "id": "33d879ce",
   "metadata": {},
   "source": [
    "#### 7. Write a generator, genPrimes, that returns the sequence of prime numbers on successive calls to its next() method: 2, 3, 5, 7, 11, ..."
   ]
  },
  {
   "cell_type": "code",
   "execution_count": 56,
   "id": "1175ea7b",
   "metadata": {},
   "outputs": [],
   "source": [
    "def genPrimes():\n",
    "    num = 2\n",
    "    prime_no = []\n",
    "    while True:\n",
    "        for x in prime_no:\n",
    "            if n%x == 0:\n",
    "                break\n",
    "            else:\n",
    "                prime_no.append(n)\n",
    "                yield n\n",
    "            num +=1"
   ]
  },
  {
   "cell_type": "code",
   "execution_count": 57,
   "id": "ab2ec508",
   "metadata": {},
   "outputs": [],
   "source": [
    "gp = genPrimes()"
   ]
  },
  {
   "cell_type": "code",
   "execution_count": 58,
   "id": "1b256f40",
   "metadata": {},
   "outputs": [
    {
     "data": {
      "text/plain": [
       "<generator object genPrimes at 0x0000023212854120>"
      ]
     },
     "execution_count": 58,
     "metadata": {},
     "output_type": "execute_result"
    }
   ],
   "source": [
    "iter(gp)"
   ]
  },
  {
   "cell_type": "code",
   "execution_count": null,
   "id": "2c9b03b0",
   "metadata": {},
   "outputs": [],
   "source": [
    "next(gp)"
   ]
  },
  {
   "cell_type": "code",
   "execution_count": null,
   "id": "caceb054",
   "metadata": {},
   "outputs": [],
   "source": [
    "import itertools\n",
    "\n",
    "def check_prime(n, primes):\n",
    "    for p in primes:\n",
    "        if not n % p:\n",
    "            return False\n",
    "    return True\n",
    "\n",
    "def prime_sieve():\n",
    "    primes = set()\n",
    "    for n in itertools.count(2):\n",
    "        if check_prime(n, primes):\n",
    "            primes.add(n)\n",
    "            yield n"
   ]
  },
  {
   "cell_type": "code",
   "execution_count": null,
   "id": "2f382d3a",
   "metadata": {},
   "outputs": [],
   "source": [
    "g = prime_sieve"
   ]
  }
 ],
 "metadata": {
  "kernelspec": {
   "display_name": "Python 3",
   "language": "python",
   "name": "python3"
  },
  "language_info": {
   "codemirror_mode": {
    "name": "ipython",
    "version": 3
   },
   "file_extension": ".py",
   "mimetype": "text/x-python",
   "name": "python",
   "nbconvert_exporter": "python",
   "pygments_lexer": "ipython3",
   "version": "3.8.8"
  }
 },
 "nbformat": 4,
 "nbformat_minor": 5
}
