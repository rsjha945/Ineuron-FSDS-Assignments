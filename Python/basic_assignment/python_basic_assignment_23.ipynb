{
 "cells": [
  {
   "cell_type": "markdown",
   "id": "99146fae",
   "metadata": {},
   "source": [
    "#### 1. What is the result of the code, and why?\n",
    "\n",
    "##### def func(a, b=6, c=8):\n",
    "\n",
    "##### print(a, b, c)\n",
    "##### func(1, 2)"
   ]
  },
  {
   "cell_type": "markdown",
   "id": "90538fc7",
   "metadata": {},
   "source": [
    "output will 1, 2, 8 because func() function is passing 2 parameters , a is assigning with 1, for b 2 will override 6 and for c default value is 8."
   ]
  },
  {
   "cell_type": "markdown",
   "id": "6e8ddefb",
   "metadata": {},
   "source": [
    "#### 2. What is the result of this code, and why?\n",
    "#### >>> def func(a, b, c=5):\n",
    "#### print(a, b, c)\n",
    "#### >>> func(1, c=3, b=2)\n"
   ]
  },
  {
   "cell_type": "markdown",
   "id": "52f0e5a9",
   "metadata": {},
   "source": [
    "output will 1, 2, 3 because a is positional argument , b and c are keyword argument and for c 3 will override 5 and b will assign 2"
   ]
  },
  {
   "cell_type": "markdown",
   "id": "b1ea8f4c",
   "metadata": {},
   "source": [
    "#### 3. How about this code: what is its result, and why?\n",
    "##### >>> def func(a, *pargs):\n",
    "##### print(a, pargs)\n",
    "##### >>> func(1, 2, 3)\n"
   ]
  },
  {
   "cell_type": "markdown",
   "id": "794b8786",
   "metadata": {},
   "source": [
    "above code will give output 1 (2, 3) because a will assign 1 and *pargs is a non-keyword argument in which we can pass any number of parameters, so *pargs will return tuple of parameters passed in *pargs i.e, (1, 2)."
   ]
  },
  {
   "cell_type": "markdown",
   "id": "15beef3c",
   "metadata": {},
   "source": [
    "#### 4. What does this code print, and why?\n",
    "##### >>> def func(a, **kargs):\n",
    "##### print(a, kargs)\n",
    "##### >>> func(a=1, c=3, b=2)\n"
   ]
  },
  {
   "cell_type": "markdown",
   "id": "b14b095d",
   "metadata": {},
   "source": [
    "above code will give output 1 {'c': 2, 'b': 3} beause all 3 parameters are keyword arguments. In **kwargs we can pass any number of keyword arguments."
   ]
  },
  {
   "cell_type": "markdown",
   "id": "f50fd8d4",
   "metadata": {},
   "source": [
    "#### 5. What gets printed by this, and explain?\n",
    "##### >>> def func(a, b, c=8, d=5): print(a, b, c, d)\n",
    "##### >>> func(1, *(5, 6))"
   ]
  },
  {
   "cell_type": "markdown",
   "id": "cb1975c6",
   "metadata": {},
   "source": [
    "above code will give output as 1 5 6 5 because for a it assign 1 and for rest of the arguments it will assign 5 and 6 in a loop."
   ]
  },
  {
   "cell_type": "markdown",
   "id": "3b1e0648",
   "metadata": {},
   "source": [
    "#### 6. what is the result of this, and explain?\n",
    "##### >>> def func(a, b, c): a = 2; b[0] = 'x'; c['a'] = 'y'\n",
    "##### >>> l=1; m=[1]; n={'a':0}\n",
    "##### >>> func(l, m, n)"
   ]
  },
  {
   "cell_type": "markdown",
   "id": "e130ea58",
   "metadata": {},
   "source": [
    "above code will not give any output because in the code neither print statement is mentioned nor return statement is mentioned."
   ]
  }
 ],
 "metadata": {
  "kernelspec": {
   "display_name": "Python 3",
   "language": "python",
   "name": "python3"
  },
  "language_info": {
   "codemirror_mode": {
    "name": "ipython",
    "version": 3
   },
   "file_extension": ".py",
   "mimetype": "text/x-python",
   "name": "python",
   "nbconvert_exporter": "python",
   "pygments_lexer": "ipython3",
   "version": "3.8.8"
  }
 },
 "nbformat": 4,
 "nbformat_minor": 5
}
