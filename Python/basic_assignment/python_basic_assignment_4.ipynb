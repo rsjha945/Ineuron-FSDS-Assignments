{
 "cells": [
  {
   "cell_type": "markdown",
   "id": "0c0429c4",
   "metadata": {},
   "source": [
    "#### 1. What exactly is []?"
   ]
  },
  {
   "cell_type": "code",
   "execution_count": null,
   "id": "9b3f7a9c",
   "metadata": {},
   "outputs": [],
   "source": [
    "-> [] is an empty list in python.\n",
    "eg. li = [] , this means we have created a empty list and stored in a variable li."
   ]
  },
  {
   "cell_type": "markdown",
   "id": "560400dc",
   "metadata": {},
   "source": [
    "#### 2. In a list of values stored in a variable called spam, how would you assign the value 'hello' as the third value? (Assume [2, 4, 6, 8, 10] are in spam.)"
   ]
  },
  {
   "cell_type": "code",
   "execution_count": null,
   "id": "1c742c1e",
   "metadata": {},
   "outputs": [],
   "source": [
    "spam = [2, 4, 6, 8, 10]\n",
    "spam[2] = 'hello'"
   ]
  },
  {
   "cell_type": "markdown",
   "id": "b253f703",
   "metadata": {},
   "source": [
    "### Let's pretend the spam includes the list ['a', 'b', 'c', 'd'] for the next three queries."
   ]
  },
  {
   "cell_type": "markdown",
   "id": "415d74e9",
   "metadata": {},
   "source": [
    "#### 3. What is the value of spam[int(int('3' * 2) / 11)]?"
   ]
  },
  {
   "cell_type": "code",
   "execution_count": null,
   "id": "741e68bd",
   "metadata": {},
   "outputs": [],
   "source": [
    "'d'"
   ]
  },
  {
   "cell_type": "markdown",
   "id": "5d2ceba1",
   "metadata": {},
   "source": [
    "#### 4. What is the value of spam[-1]?"
   ]
  },
  {
   "cell_type": "code",
   "execution_count": null,
   "id": "e4bfcd5a",
   "metadata": {},
   "outputs": [],
   "source": [
    "'d'"
   ]
  },
  {
   "cell_type": "markdown",
   "id": "d27771c0",
   "metadata": {},
   "source": [
    "#### 5. What is the value of spam[:2]?"
   ]
  },
  {
   "cell_type": "code",
   "execution_count": null,
   "id": "2f58e6f6",
   "metadata": {},
   "outputs": [],
   "source": [
    "['a', 'b']"
   ]
  },
  {
   "cell_type": "markdown",
   "id": "222c259a",
   "metadata": {},
   "source": [
    "### Let's pretend bacon has the list [3.14, 'cat,' 11, 'cat,' True] for the next three questions."
   ]
  },
  {
   "cell_type": "markdown",
   "id": "a4857772",
   "metadata": {},
   "source": [
    "#### 6. What is the value of bacon.index('cat')?"
   ]
  },
  {
   "cell_type": "code",
   "execution_count": null,
   "id": "195a8548",
   "metadata": {},
   "outputs": [],
   "source": [
    "bacon.index('cat') will return the index of the first occurances of the 'cat' from the bacon list.\n",
    "1"
   ]
  },
  {
   "cell_type": "markdown",
   "id": "526ae274",
   "metadata": {},
   "source": [
    "#### 7. How does bacon.append(99) change the look of the list value in bacon?"
   ]
  },
  {
   "cell_type": "code",
   "execution_count": null,
   "id": "39e76e85",
   "metadata": {},
   "outputs": [],
   "source": [
    "In this case 99 will append at the last of the list\n",
    "[3.14, 'cat', 11, 'cat', True, 99]"
   ]
  },
  {
   "cell_type": "markdown",
   "id": "b19be1ee",
   "metadata": {},
   "source": [
    "#### 8. How does bacon.remove('cat') change the look of the list in bacon?"
   ]
  },
  {
   "cell_type": "code",
   "execution_count": null,
   "id": "79703c58",
   "metadata": {},
   "outputs": [],
   "source": [
    "bacon.remove('cat') will remove the first occurances of the 'cat' from the bacon list.\n",
    "[3.14, 11, 'cat', True, 99]"
   ]
  },
  {
   "cell_type": "markdown",
   "id": "75eb0054",
   "metadata": {},
   "source": [
    "#### 9. What are the list concatenation and list replication operators?"
   ]
  },
  {
   "cell_type": "code",
   "execution_count": null,
   "id": "d4dabf2a",
   "metadata": {},
   "outputs": [],
   "source": [
    "list concatenation means merging two or more then two list and form a single list using '+' operator.\n",
    "list replication means repetition of a list using '*' operator."
   ]
  },
  {
   "cell_type": "markdown",
   "id": "1cc151b6",
   "metadata": {},
   "source": [
    "#### 10. What is difference between the list methods append() and insert()?"
   ]
  },
  {
   "cell_type": "code",
   "execution_count": null,
   "id": "b16959f0",
   "metadata": {},
   "outputs": [],
   "source": [
    "-> append() method always appends a object at the end of the list, append always takes only one argument.\n",
    "-> insert() method inserts the element at any position in the list, it takes two arguments index and element."
   ]
  },
  {
   "cell_type": "markdown",
   "id": "cfef0b6b",
   "metadata": {},
   "source": [
    "#### 11. What are the two methods for removing items from a list?"
   ]
  },
  {
   "cell_type": "code",
   "execution_count": null,
   "id": "614bd29e",
   "metadata": {},
   "outputs": [],
   "source": [
    "list.pop() and list.remove() are the two methods used for removing the items from list."
   ]
  },
  {
   "cell_type": "markdown",
   "id": "dddbfcd1",
   "metadata": {},
   "source": [
    "#### 12. Describe how list values and string values are identical."
   ]
  },
  {
   "cell_type": "code",
   "execution_count": null,
   "id": "58f327e0",
   "metadata": {},
   "outputs": [],
   "source": [
    "-> Both list and string are ordered collection of items.\n",
    "-> Lists may have differnet data type of elements whereas string contans only characters of string data type.\n",
    "-> lists are mutable whereas string are immutable. "
   ]
  },
  {
   "cell_type": "markdown",
   "id": "7e864ce8",
   "metadata": {},
   "source": [
    "#### 13. What's the difference between tuples and lists?"
   ]
  },
  {
   "cell_type": "code",
   "execution_count": null,
   "id": "29d7e690",
   "metadata": {},
   "outputs": [],
   "source": [
    "-> Elements of tuples are enclosed within the small brackets i.e () whereas elements of lists are enclosed within the          square brackets i.e [].\n",
    "-> Tuples are immutable whereas lists are mutable.\n",
    "-> Both tuples and lists are ordered collection of elements."
   ]
  },
  {
   "cell_type": "markdown",
   "id": "28e897b2",
   "metadata": {},
   "source": [
    "#### 14. How do you type a tuple value that only contains the integer 42?"
   ]
  },
  {
   "cell_type": "code",
   "execution_count": null,
   "id": "b8c4cd71",
   "metadata": {},
   "outputs": [],
   "source": [
    "tup = (42,)"
   ]
  },
  {
   "cell_type": "markdown",
   "id": "987275a5",
   "metadata": {},
   "source": [
    "#### 15. How do you get a list value's tuple form? How do you get a tuple value's list form?"
   ]
  },
  {
   "cell_type": "code",
   "execution_count": null,
   "id": "d24e6fa7",
   "metadata": {},
   "outputs": [],
   "source": [
    "-> To get the list values in tuple form we have to create lists inside the tuple.\n",
    "   eg. ([1, 2, 3], [4, 5, 6])\n",
    "-> To get the tuple values in list form we have to create tuples inside the list.\n",
    "   eg. [(7, 8, 9), (10, 11, 12)]"
   ]
  },
  {
   "cell_type": "markdown",
   "id": "88eb695f",
   "metadata": {},
   "source": [
    "#### 16. Variables that \"contain\" list values are not necessarily lists themselves. Instead, what do they contain?"
   ]
  },
  {
   "cell_type": "code",
   "execution_count": null,
   "id": "f235c494",
   "metadata": {},
   "outputs": [],
   "source": [
    "list variables can contain integers, floats, string, tuples etc apart from list."
   ]
  },
  {
   "cell_type": "markdown",
   "id": "c6e3ae19",
   "metadata": {},
   "source": [
    "#### 17. How do you distinguish between copy.copy() and copy.deepcopy()?"
   ]
  },
  {
   "cell_type": "code",
   "execution_count": 1,
   "id": "245c6d8e",
   "metadata": {},
   "outputs": [
    {
     "ename": "SyntaxError",
     "evalue": "invalid syntax (<ipython-input-1-ac262639f18b>, line 1)",
     "output_type": "error",
     "traceback": [
      "\u001b[1;36m  File \u001b[1;32m\"<ipython-input-1-ac262639f18b>\"\u001b[1;36m, line \u001b[1;32m1\u001b[0m\n\u001b[1;33m    -> A shallow copy or copy.copy() constructs a new compound object and then inserts references into it to the objects found    in the original.\u001b[0m\n\u001b[1;37m    ^\u001b[0m\n\u001b[1;31mSyntaxError\u001b[0m\u001b[1;31m:\u001b[0m invalid syntax\n"
     ]
    }
   ],
   "source": [
    "# A shallow copy or copy.copy() constructs a new compound object and then inserts references into it to the objects found    in the original. A deep copy or copy.deepcopy() constructs a new compound object and then, recursively, inserts copies into it of the        objects found in the original."
   ]
  },
  {
   "cell_type": "code",
   "execution_count": null,
   "id": "aa09c2cd",
   "metadata": {},
   "outputs": [],
   "source": []
  }
 ],
 "metadata": {
  "kernelspec": {
   "display_name": "Python 3",
   "language": "python",
   "name": "python3"
  },
  "language_info": {
   "codemirror_mode": {
    "name": "ipython",
    "version": 3
   },
   "file_extension": ".py",
   "mimetype": "text/x-python",
   "name": "python",
   "nbconvert_exporter": "python",
   "pygments_lexer": "ipython3",
   "version": "3.8.8"
  }
 },
 "nbformat": 4,
 "nbformat_minor": 5
}
