{
 "cells": [
  {
   "cell_type": "markdown",
   "id": "7392c91d",
   "metadata": {},
   "source": [
    "#### 1. What is the relationship between def statements and lambda expressions ?"
   ]
  },
  {
   "cell_type": "markdown",
   "id": "20a02b96",
   "metadata": {},
   "source": [
    "\"Def\" can hold multiple expressions but \"lambda\" is a uni-expression. \"Def\" generates a function that designates a name to call it later while \"lambda\" forms a function object and returns it."
   ]
  },
  {
   "cell_type": "markdown",
   "id": "08b49203",
   "metadata": {},
   "source": [
    "#### 2. What is the benefit of lambda?"
   ]
  },
  {
   "cell_type": "markdown",
   "id": "ce1b4bab",
   "metadata": {},
   "source": [
    "\"lambda\" function is also known as anonymous function. It can be used for short period of time, can be used inside a list or a dictionary and have any number of arguments but have only one expression."
   ]
  },
  {
   "cell_type": "markdown",
   "id": "00990c69",
   "metadata": {},
   "source": [
    "#### 3. Compare and contrast map, filter, and reduce."
   ]
  },
  {
   "cell_type": "markdown",
   "id": "47ff07d5",
   "metadata": {},
   "source": [
    "\"map()\" function iterates through all items in the given iterable object and executes the function we passed as an argument on each of them.\n",
    "\n",
    "\"filter()\" function  forms a new list that contains only elements that satisfy a certain condition, i.e. the function we passed returns True.\n",
    "\n",
    "\"reduce()\" function works differently than map() and filter(). It does not return a new list based on the function and iterable we've passed. Instead, it returns a single value. To use reduce() function we have to import \"functools\" module."
   ]
  },
  {
   "cell_type": "markdown",
   "id": "1f8ede4f",
   "metadata": {},
   "source": [
    "#### 4. What are function annotations, and how are they used?"
   ]
  },
  {
   "cell_type": "markdown",
   "id": "bd45f4f6",
   "metadata": {},
   "source": [
    "Function annotations are arbitrary python expressions that are associated with various part of functions. These expressions are evaluated at compile time and have no life in python’s runtime environment.\n",
    "\n",
    "For simple parameter ':' is used for expression for multi-parameters '*args' and 'kwargs' are used for expression."
   ]
  },
  {
   "cell_type": "markdown",
   "id": "eaddf1d3",
   "metadata": {},
   "source": [
    "#### 5. What are recursive functions, and how are they used?"
   ]
  },
  {
   "cell_type": "markdown",
   "id": "7bc4ee1a",
   "metadata": {},
   "source": [
    "A recursive function is a function which call itself during execution.\n",
    "It is used when a function needs to be called by itself repeatedly."
   ]
  },
  {
   "cell_type": "markdown",
   "id": "9e4d0e89",
   "metadata": {},
   "source": [
    "#### 6. What are some general design guidelines for coding functions?"
   ]
  },
  {
   "cell_type": "markdown",
   "id": "e2daeb43",
   "metadata": {},
   "source": [
    "Some general design guidelines for coding functions are:\n",
    "\n",
    "    1. Limited use of global variable\n",
    "    2. Naming convention for local variables, global variables, constants and functions.\n",
    "    3. Exception handling conventions.\n",
    "    4. Indentation.\n",
    "    "
   ]
  },
  {
   "cell_type": "markdown",
   "id": "700c34be",
   "metadata": {},
   "source": [
    "#### 7. Name three or more ways that functions can communicate results to a caller."
   ]
  },
  {
   "cell_type": "markdown",
   "id": "47cb34c9",
   "metadata": {},
   "source": [
    "1. using 'return' statement function can communicate results to a caller.\n",
    "2. passing 'parameters' to a caller it can communicate to the function.\n",
    "3.Both the caller and function name should be same to communicate with each other."
   ]
  }
 ],
 "metadata": {
  "kernelspec": {
   "display_name": "Python 3",
   "language": "python",
   "name": "python3"
  },
  "language_info": {
   "codemirror_mode": {
    "name": "ipython",
    "version": 3
   },
   "file_extension": ".py",
   "mimetype": "text/x-python",
   "name": "python",
   "nbconvert_exporter": "python",
   "pygments_lexer": "ipython3",
   "version": "3.8.8"
  }
 },
 "nbformat": 4,
 "nbformat_minor": 5
}
