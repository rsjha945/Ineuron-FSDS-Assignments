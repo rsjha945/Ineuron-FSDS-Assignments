{
 "cells": [
  {
   "cell_type": "markdown",
   "id": "8fb4b0cc",
   "metadata": {},
   "source": [
    "#### 1) . What is the difference between enclosing a list comprehension in square brackets and parentheses?"
   ]
  },
  {
   "cell_type": "markdown",
   "id": "53291881",
   "metadata": {},
   "source": [
    "Enclosing in square bracket means list comprehension while enclosing in paranthesis means tuple comprehension."
   ]
  },
  {
   "cell_type": "markdown",
   "id": "a4bf3f9b",
   "metadata": {},
   "source": [
    "#### 2) What is the relationship between generators and iterators?"
   ]
  },
  {
   "cell_type": "markdown",
   "id": "0c4aeab1",
   "metadata": {},
   "source": [
    "'iterators' using iter() method to create an iterator containing iterable objects. To traverse the iterable object it uses next() method.\n",
    "\n",
    "'generators' is a function which yields a sequence of values using the yield method.\n",
    "\n",
    "Every generator is iterator but every iterator may or may not generator.\n"
   ]
  },
  {
   "cell_type": "markdown",
   "id": "98e3510f",
   "metadata": {},
   "source": [
    "#### 3) What are the signs that a function is a generator function?"
   ]
  },
  {
   "cell_type": "markdown",
   "id": "39883ecc",
   "metadata": {},
   "source": [
    "A function should be iterator to become generator.\n",
    "\n",
    "A generator function uses atleast one yield statement in function."
   ]
  },
  {
   "cell_type": "markdown",
   "id": "6a36b6db",
   "metadata": {},
   "source": [
    "#### 4) What is the purpose of a yield statement?"
   ]
  },
  {
   "cell_type": "markdown",
   "id": "410a8695",
   "metadata": {},
   "source": [
    "'yield' statement won't remember the entire iterable object it just remember the last value of iterable object.\n",
    "\n",
    "'yield' produces a sequence of values."
   ]
  },
  {
   "cell_type": "markdown",
   "id": "50e84db0",
   "metadata": {},
   "source": [
    "#### 5) What is the relationship between map calls and list comprehensions? Make a comparison and contrast between the two."
   ]
  },
  {
   "cell_type": "markdown",
   "id": "6ae1f67f",
   "metadata": {},
   "source": [
    "'list comprehension' is a substitute of the 'map() function'. We can pass list comprehension as an argument of the map() function.\n",
    "\n",
    "comparision:\n",
    "1. list comprehension allows filtering while map() does not.\n",
    "2. list comprehension is required when we want values in list while map function returns map object."
   ]
  }
 ],
 "metadata": {
  "kernelspec": {
   "display_name": "Python 3",
   "language": "python",
   "name": "python3"
  },
  "language_info": {
   "codemirror_mode": {
    "name": "ipython",
    "version": 3
   },
   "file_extension": ".py",
   "mimetype": "text/x-python",
   "name": "python",
   "nbconvert_exporter": "python",
   "pygments_lexer": "ipython3",
   "version": "3.8.8"
  }
 },
 "nbformat": 4,
 "nbformat_minor": 5
}
