{
 "cells": [
  {
   "cell_type": "markdown",
   "id": "2f59d417",
   "metadata": {},
   "source": [
    "##### 1. What does an empty dictionary's code look like?"
   ]
  },
  {
   "cell_type": "code",
   "execution_count": null,
   "id": "346d086c",
   "metadata": {},
   "outputs": [],
   "source": [
    "To create a empty dictionary, the dictionary variable should be set to {}.\n",
    "  e.g, dict1 = {}"
   ]
  },
  {
   "cell_type": "markdown",
   "id": "1906a76f",
   "metadata": {},
   "source": [
    "#### 2. What is the value of a dictionary value with the key 'foo' and the value 42?"
   ]
  },
  {
   "cell_type": "code",
   "execution_count": 1,
   "id": "a8f05b6b",
   "metadata": {},
   "outputs": [],
   "source": [
    "dict1 = {'foo': 42}"
   ]
  },
  {
   "cell_type": "markdown",
   "id": "d258b03e",
   "metadata": {},
   "source": [
    "#### 3. What is the most significant distinction between a dictionary and a list?"
   ]
  },
  {
   "cell_type": "code",
   "execution_count": null,
   "id": "93b4a49f",
   "metadata": {},
   "outputs": [],
   "source": [
    "-> List is an ordered sequence of objects, whereas dictionary is an unordered sets.\n",
    "-> Items of lists accessed via indexing while items of dictionary accessed via keys. "
   ]
  },
  {
   "cell_type": "markdown",
   "id": "0348ce54",
   "metadata": {},
   "source": [
    "#### 4. What happens if you try to access spam['foo'] if spam is {'bar': 100}? "
   ]
  },
  {
   "cell_type": "code",
   "execution_count": null,
   "id": "0672b387",
   "metadata": {},
   "outputs": [],
   "source": [
    "spam['foo'] will throw a KeyError, because spam dosent have 'foo' key"
   ]
  },
  {
   "cell_type": "markdown",
   "id": "2627748d",
   "metadata": {},
   "source": [
    "#### 5. If a dictionary is stored in spam, what is the difference between the expressions 'cat' in spam and 'cat' in spam.keys()?"
   ]
  },
  {
   "cell_type": "code",
   "execution_count": null,
   "id": "fd75b69b",
   "metadata": {},
   "outputs": [],
   "source": [
    "There is no difference in both the expressions. The \"in\" operator checks whether a value exists as key."
   ]
  },
  {
   "cell_type": "markdown",
   "id": "b208cdcd",
   "metadata": {},
   "source": [
    "#### 6. If a dictionary is stored in spam, what is the difference between the expressions 'cat' in spam and 'cat' in spam.values()?"
   ]
  },
  {
   "cell_type": "code",
   "execution_count": null,
   "id": "38d9fa6a",
   "metadata": {},
   "outputs": [],
   "source": [
    "'cat' in spam checks whether the 'cat' is present as a key or not and 'cat' in spam.values() checks whether the 'cat' is present as value or not."
   ]
  },
  {
   "cell_type": "markdown",
   "id": "437a95d8",
   "metadata": {},
   "source": [
    "#### 7. What is a shortcut for the following code?\n",
    "##### if 'color' not in spam:\n",
    "##### spam['color'] = 'black'"
   ]
  },
  {
   "cell_type": "code",
   "execution_count": null,
   "id": "f5eca448",
   "metadata": {},
   "outputs": [],
   "source": [
    "'black' if 'color' not in spam else 'blue'"
   ]
  },
  {
   "cell_type": "markdown",
   "id": "9e74a5bd",
   "metadata": {},
   "source": [
    "#### 8. How do you \"pretty print\" dictionary values using which module and function?"
   ]
  },
  {
   "cell_type": "code",
   "execution_count": null,
   "id": "ad48eab9",
   "metadata": {},
   "outputs": [],
   "source": [
    "In the pprint module "
   ]
  }
 ],
 "metadata": {
  "kernelspec": {
   "display_name": "Python 3",
   "language": "python",
   "name": "python3"
  },
  "language_info": {
   "codemirror_mode": {
    "name": "ipython",
    "version": 3
   },
   "file_extension": ".py",
   "mimetype": "text/x-python",
   "name": "python",
   "nbconvert_exporter": "python",
   "pygments_lexer": "ipython3",
   "version": "3.8.8"
  }
 },
 "nbformat": 4,
 "nbformat_minor": 5
}
