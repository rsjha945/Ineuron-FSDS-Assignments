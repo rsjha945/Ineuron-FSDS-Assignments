{
 "cells": [
  {
   "cell_type": "markdown",
   "id": "4087ad89",
   "metadata": {},
   "source": [
    "#### 1. What is the result of the code, and explain?\n",
    "\n",
    "\n",
    "##### >>> X = 'iNeuron'\n",
    "##### >>> def func():\n",
    "##### print(X)\n",
    "\n",
    "\n",
    "##### >>> func()\n"
   ]
  },
  {
   "cell_type": "markdown",
   "id": "86170d1c",
   "metadata": {},
   "source": [
    "iNeuron"
   ]
  },
  {
   "cell_type": "markdown",
   "id": "cd06dec4",
   "metadata": {},
   "source": [
    "#### 2. What is the result of the code, and explain?\n",
    "\n",
    "\n",
    "##### >>> X = 'iNeuron'\n",
    "##### >>> def func():\n",
    "##### X = 'NI!'\n",
    "\n",
    "\n",
    "##### >>> func()\n",
    "##### >>> print(X)\n"
   ]
  },
  {
   "cell_type": "markdown",
   "id": "09f1dfa5",
   "metadata": {},
   "source": [
    "iNeuron"
   ]
  },
  {
   "cell_type": "markdown",
   "id": "4cb63f8b",
   "metadata": {},
   "source": [
    "##### 3. What does this code print, and why?\n",
    "\n",
    "\n",
    "##### >>> X = 'iNeuron'\n",
    "##### >>> def func():\n",
    "##### X = 'NI'\n",
    "##### print(X)\n",
    "\n",
    "\n",
    "##### >>> func()\n",
    "##### >>> print(X)\n"
   ]
  },
  {
   "cell_type": "markdown",
   "id": "dcb7d7f1",
   "metadata": {},
   "source": [
    "1. NI\n",
    "2. iNeuron"
   ]
  },
  {
   "cell_type": "markdown",
   "id": "035e2761",
   "metadata": {},
   "source": [
    "#### 4. What output does this code produce? Why?\n",
    "\n",
    "\n",
    "##### >>> X = 'iNeuron'\n",
    "##### >>> def func():\n",
    "##### global X\n",
    "##### X = 'NI'\n",
    "\n",
    "\n",
    "##### >>> func()\n",
    "##### >>> print(X)\n"
   ]
  },
  {
   "cell_type": "markdown",
   "id": "f74ee084",
   "metadata": {},
   "source": [
    "1. NI\n",
    "2. NI"
   ]
  },
  {
   "cell_type": "markdown",
   "id": "ff8d06da",
   "metadata": {},
   "source": [
    "#### 5. What about this code—what’s the output, and why?\n",
    "\n",
    "\n",
    "##### >>> X = 'iNeuron'\n",
    "##### >>> def func():\n",
    "##### X = 'NI'\n",
    "##### def nested():\n",
    "##### print(X)\n",
    "##### nested()\n",
    "\n",
    "\n",
    "##### >>> func()\n",
    "##### >>> X\n"
   ]
  },
  {
   "cell_type": "code",
   "execution_count": null,
   "id": "9c0d5df8",
   "metadata": {},
   "outputs": [],
   "source": [
    "'iNeuron'"
   ]
  },
  {
   "cell_type": "markdown",
   "id": "d4771485",
   "metadata": {},
   "source": [
    "#### 6. How about this code: what is its output in Python 3, and explain?\n",
    "\n",
    "\n",
    "##### >>> def func():\n",
    "##### X = 'NI'\n",
    "##### def nested():\n",
    "##### nonlocal X\n",
    "##### X = 'Spam'\n",
    "##### nested()\n",
    "##### print(X)\n",
    "\n",
    "\n",
    "##### >>> func()\n"
   ]
  },
  {
   "cell_type": "code",
   "execution_count": 12,
   "id": "cb53e063",
   "metadata": {},
   "outputs": [
    {
     "name": "stdout",
     "output_type": "stream",
     "text": [
      "spam\n"
     ]
    }
   ],
   "source": [
    "\n",
    "def func():\n",
    "    x = 'ni'\n",
    "    def nested():\n",
    "        nonlocal x\n",
    "        x = 'spam'\n",
    "    nested()\n",
    "    print(x)\n",
    "func()"
   ]
  },
  {
   "cell_type": "markdown",
   "id": "d0f86ef6",
   "metadata": {},
   "source": [
    "In nested function variable x is nonlocal, so \"spam\" will override \"ni\" in nested function. and it will give output as \"spam\""
   ]
  }
 ],
 "metadata": {
  "kernelspec": {
   "display_name": "Python 3",
   "language": "python",
   "name": "python3"
  },
  "language_info": {
   "codemirror_mode": {
    "name": "ipython",
    "version": 3
   },
   "file_extension": ".py",
   "mimetype": "text/x-python",
   "name": "python",
   "nbconvert_exporter": "python",
   "pygments_lexer": "ipython3",
   "version": "3.8.8"
  }
 },
 "nbformat": 4,
 "nbformat_minor": 5
}
