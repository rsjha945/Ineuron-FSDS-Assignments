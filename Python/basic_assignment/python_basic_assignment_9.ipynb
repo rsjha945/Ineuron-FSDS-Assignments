{
 "cells": [
  {
   "cell_type": "markdown",
   "id": "76d2a6dd",
   "metadata": {},
   "source": [
    "#### 1. To what does a relative path refer?"
   ]
  },
  {
   "cell_type": "code",
   "execution_count": null,
   "id": "b665a625",
   "metadata": {},
   "outputs": [],
   "source": [
    "A relative path refers to a current location that is relative to a current directory."
   ]
  },
  {
   "cell_type": "markdown",
   "id": "56df9312",
   "metadata": {},
   "source": [
    "#### 2. What does an absolute path start with your operating system?"
   ]
  },
  {
   "cell_type": "code",
   "execution_count": null,
   "id": "abd19c1d",
   "metadata": {},
   "outputs": [],
   "source": [
    "Absolute path name always begins with the / symbol. An absolute path name represents the complete name of a directory."
   ]
  },
  {
   "cell_type": "markdown",
   "id": "f0c3c80f",
   "metadata": {},
   "source": [
    "#### 3. What do the functions os.getcwd() and os.chdir() do?"
   ]
  },
  {
   "cell_type": "code",
   "execution_count": null,
   "id": "ff122784",
   "metadata": {},
   "outputs": [],
   "source": [
    "os.getcwd() gives the current working directory of the operating system and os.chdir() change the working directory of the operating system."
   ]
  },
  {
   "cell_type": "markdown",
   "id": "df78ee23",
   "metadata": {},
   "source": [
    "#### 4. What are the . and .. folders?"
   ]
  },
  {
   "cell_type": "code",
   "execution_count": null,
   "id": "f186b7e7",
   "metadata": {},
   "outputs": [],
   "source": [
    ". refers to the current directory while .. refers to the parent directory."
   ]
  },
  {
   "cell_type": "markdown",
   "id": "389bb3fe",
   "metadata": {},
   "source": [
    "#### 5. In C:\\bacon\\eggs\\spam.txt, which part is the dir name, and which part is the base name?"
   ]
  },
  {
   "cell_type": "code",
   "execution_count": null,
   "id": "26cbdbbc",
   "metadata": {},
   "outputs": [],
   "source": [
    "C:\\bacon\\eggs is the directory name while spam.txt is the base name"
   ]
  },
  {
   "cell_type": "markdown",
   "id": "9b52cde8",
   "metadata": {},
   "source": [
    "#### 6. What are the three “mode” arguments that can be passed to the open() function?"
   ]
  },
  {
   "cell_type": "code",
   "execution_count": null,
   "id": "6906656b",
   "metadata": {},
   "outputs": [],
   "source": [
    "Three modes that can be passed to the open() function are below:-\n",
    "  r: open an existing file for read operation\n",
    "  w: open an existing file for write operation\n",
    "  a: open an existing file for append operation"
   ]
  },
  {
   "cell_type": "markdown",
   "id": "abf160dd",
   "metadata": {},
   "source": [
    "#### 7. What happens if an existing file is opened in write mode?"
   ]
  },
  {
   "cell_type": "code",
   "execution_count": null,
   "id": "837ad980",
   "metadata": {},
   "outputs": [],
   "source": [
    "In write mode we can write the data in the existing file but if the file does not exists then first it will create the file after that we can write the data."
   ]
  },
  {
   "cell_type": "markdown",
   "id": "202edd7d",
   "metadata": {},
   "source": [
    "#### 8. How do you tell the difference between read() and readlines()?"
   ]
  },
  {
   "cell_type": "code",
   "execution_count": null,
   "id": "80550a43",
   "metadata": {},
   "outputs": [],
   "source": [
    "read() function reads all the file content in to a sting whereas readline() function reads a single line from a file."
   ]
  },
  {
   "cell_type": "markdown",
   "id": "4b30a304",
   "metadata": {},
   "source": [
    "#### 9. What data structure does a shelf value resemble?"
   ]
  },
  {
   "cell_type": "code",
   "execution_count": null,
   "id": "507072cb",
   "metadata": {},
   "outputs": [],
   "source": [
    "A shelf value resembles a dictionary value. "
   ]
  }
 ],
 "metadata": {
  "kernelspec": {
   "display_name": "Python 3",
   "language": "python",
   "name": "python3"
  },
  "language_info": {
   "codemirror_mode": {
    "name": "ipython",
    "version": 3
   },
   "file_extension": ".py",
   "mimetype": "text/x-python",
   "name": "python",
   "nbconvert_exporter": "python",
   "pygments_lexer": "ipython3",
   "version": "3.8.8"
  }
 },
 "nbformat": 4,
 "nbformat_minor": 5
}
