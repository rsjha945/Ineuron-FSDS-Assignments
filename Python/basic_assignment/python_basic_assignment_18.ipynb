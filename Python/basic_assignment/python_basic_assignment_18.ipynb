{
 "cells": [
  {
   "cell_type": "markdown",
   "id": "2c4a01bd",
   "metadata": {},
   "source": [
    "#### 1. Create a zoo.py file first. Define the hours() function, which prints the string 'Open 9-5 daily'. Then, use the interactive interpreter to import the zoo module and call its hours() function."
   ]
  },
  {
   "cell_type": "code",
   "execution_count": 3,
   "id": "d5eeb868",
   "metadata": {},
   "outputs": [
    {
     "name": "stdout",
     "output_type": "stream",
     "text": [
      "Open 9-5 daily\n"
     ]
    }
   ],
   "source": [
    "import zoo\n",
    "zoo.hours()"
   ]
  },
  {
   "cell_type": "markdown",
   "id": "1912aac2",
   "metadata": {},
   "source": [
    "#### 2. In the interactive interpreter, import the zoo module as menagerie and call its hours() function"
   ]
  },
  {
   "cell_type": "code",
   "execution_count": 4,
   "id": "71c1b3a6",
   "metadata": {},
   "outputs": [
    {
     "name": "stdout",
     "output_type": "stream",
     "text": [
      "Open 9-5 daily\n"
     ]
    }
   ],
   "source": [
    "import zoo as menagerie\n",
    "menagerie.hours()"
   ]
  },
  {
   "cell_type": "markdown",
   "id": "bf342d4a",
   "metadata": {},
   "source": [
    "#### 3. Using the interpreter, explicitly import and call the hours() function from zoo."
   ]
  },
  {
   "cell_type": "code",
   "execution_count": 8,
   "id": "e4942cdc",
   "metadata": {},
   "outputs": [
    {
     "name": "stdout",
     "output_type": "stream",
     "text": [
      "Open 9-5 daily\n"
     ]
    }
   ],
   "source": [
    "from zoo import hours\n",
    "hours()"
   ]
  },
  {
   "cell_type": "markdown",
   "id": "f573dd2d",
   "metadata": {},
   "source": [
    "#### 4. Import the hours() function as info and call it."
   ]
  },
  {
   "cell_type": "code",
   "execution_count": 11,
   "id": "3bd9e6fe",
   "metadata": {},
   "outputs": [
    {
     "name": "stdout",
     "output_type": "stream",
     "text": [
      "Open 9-5 daily\n"
     ]
    }
   ],
   "source": [
    "from zoo import hours as info\n",
    "info()"
   ]
  },
  {
   "cell_type": "markdown",
   "id": "26038e9d",
   "metadata": {},
   "source": [
    "#### 5. Create a plain dictionary with the key-value pairs 'a': 1, 'b': 2, and 'c': 3, and print it out. "
   ]
  },
  {
   "cell_type": "code",
   "execution_count": 21,
   "id": "db2c9fea",
   "metadata": {},
   "outputs": [
    {
     "name": "stdout",
     "output_type": "stream",
     "text": [
      "a 1\n",
      "b 2\n",
      "c 3\n"
     ]
    }
   ],
   "source": [
    "plain_dict = {}\n",
    "plain_dict['a'] = 1\n",
    "plain_dict['b'] = 2\n",
    "plain_dict['c'] = 3\n",
    "for key, val in plain_dict.items():\n",
    "    print(key, val)"
   ]
  },
  {
   "cell_type": "markdown",
   "id": "e3855a85",
   "metadata": {},
   "source": [
    "#### 6.Make an OrderedDict called fancy from the same pairs listed in 5 and print it. Did it print in the same order as plain?"
   ]
  },
  {
   "cell_type": "code",
   "execution_count": 22,
   "id": "b3a35370",
   "metadata": {},
   "outputs": [
    {
     "name": "stdout",
     "output_type": "stream",
     "text": [
      "a 1\n",
      "b 2\n",
      "c 3\n"
     ]
    }
   ],
   "source": [
    "from collections import OrderedDict\n",
    "fancy = OrderedDict()\n",
    "fancy['a'] = 1\n",
    "fancy['b'] = 2\n",
    "fancy['c'] = 3\n",
    "for key, val in fancy.items():\n",
    "    print(key, val)\n",
    "    \n",
    "#both plain and fancy printed in the same order"
   ]
  },
  {
   "cell_type": "markdown",
   "id": "bba1d373",
   "metadata": {},
   "source": [
    "#### 7. Make a default dictionary called dict_of_lists and pass it the argument list. Make the list dict_of_lists['a'] and append the value 'something for a' to it in one assignment. Print dict_of_lists['a']."
   ]
  },
  {
   "cell_type": "code",
   "execution_count": 33,
   "id": "d0183ff3",
   "metadata": {},
   "outputs": [
    {
     "data": {
      "text/plain": [
       "{'a': 'something for a'}"
      ]
     },
     "execution_count": 33,
     "metadata": {},
     "output_type": "execute_result"
    }
   ],
   "source": [
    "dict_of_list = {}\n",
    "list(dict_of_list)\n",
    "dict_of_list['a'] = 'something for a'\n",
    "dict_of_list"
   ]
  },
  {
   "cell_type": "code",
   "execution_count": null,
   "id": "c77c66a3",
   "metadata": {},
   "outputs": [],
   "source": []
  }
 ],
 "metadata": {
  "kernelspec": {
   "display_name": "Python 3",
   "language": "python",
   "name": "python3"
  },
  "language_info": {
   "codemirror_mode": {
    "name": "ipython",
    "version": 3
   },
   "file_extension": ".py",
   "mimetype": "text/x-python",
   "name": "python",
   "nbconvert_exporter": "python",
   "pygments_lexer": "ipython3",
   "version": "3.8.8"
  }
 },
 "nbformat": 4,
 "nbformat_minor": 5
}
