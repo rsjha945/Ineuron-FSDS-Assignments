{
 "cells": [
  {
   "cell_type": "markdown",
   "id": "6b4a09ab",
   "metadata": {},
   "source": [
    "#### 1. What advantages do Excel spreadsheets have over CSV spreadsheets?"
   ]
  },
  {
   "cell_type": "markdown",
   "id": "cdb57665",
   "metadata": {},
   "source": [
    "1. Excel is a spreadsheet application that save the files into its own format whereas CSV is standard of saving tabular     inforation into a delimited text file.\n",
    "2. It is a binary file that holds information about all the workdhhets in a workbook whereas CSV is a plain text format with a series of values separaed by commas. "
   ]
  },
  {
   "cell_type": "markdown",
   "id": "32b94a5b",
   "metadata": {},
   "source": [
    "#### 2.What do you pass to csv.reader() and csv.writer() to create reader and writer objects?"
   ]
  },
  {
   "cell_type": "markdown",
   "id": "7b479da6",
   "metadata": {},
   "source": [
    "To create the reader and writer objects we should pass csvfile as an argument in csv.reader() and csv.writer()"
   ]
  },
  {
   "cell_type": "markdown",
   "id": "90319179",
   "metadata": {},
   "source": [
    "#### 3. What modes do File objects for reader and writer objects need to be opened in?"
   ]
  },
  {
   "cell_type": "markdown",
   "id": "3fecaa93",
   "metadata": {},
   "source": [
    "For reader we can open the file in read mode i.e \"r\" and for writer we can open the file in write mode i.e \"w\"."
   ]
  },
  {
   "cell_type": "markdown",
   "id": "dbdb65ff",
   "metadata": {},
   "source": [
    "#### 4. What method takes a list argument and writes it to a CSV file?"
   ]
  },
  {
   "cell_type": "markdown",
   "id": "8e85bb25",
   "metadata": {},
   "source": [
    "writerows() method takes a list argument and writes it to a csv file."
   ]
  },
  {
   "cell_type": "markdown",
   "id": "da3b6255",
   "metadata": {},
   "source": [
    "#### 5. What do the keyword arguments delimiter and line terminator do?"
   ]
  },
  {
   "cell_type": "markdown",
   "id": "405eb249",
   "metadata": {},
   "source": [
    "The \"delimiter\" is the character that appears between cells on a row for example we want to use tab instead of comma so in that case we can use delimeter keyword and pass the tab argument.\n",
    "\n",
    "The \"terminator\" is the end of the row, means if we want to doubled or tripled space separated lines then we can use terminator."
   ]
  },
  {
   "cell_type": "markdown",
   "id": "005f4431",
   "metadata": {},
   "source": [
    "#### 6. What function takes a string of JSON data and returns a Python data structure?"
   ]
  },
  {
   "cell_type": "markdown",
   "id": "3c6e7334",
   "metadata": {},
   "source": [
    "json.loads() function takes a string of json data and returns a python data structure."
   ]
  },
  {
   "cell_type": "markdown",
   "id": "acc6c5fa",
   "metadata": {},
   "source": [
    "#### 7. What function takes a Python data structure and returns a string of JSON data?"
   ]
  },
  {
   "cell_type": "markdown",
   "id": "66eb2141",
   "metadata": {},
   "source": [
    "json.dumps() function takes a python data structure and returns a string of JSON data."
   ]
  },
  {
   "cell_type": "code",
   "execution_count": null,
   "id": "7326077b",
   "metadata": {},
   "outputs": [],
   "source": []
  }
 ],
 "metadata": {
  "kernelspec": {
   "display_name": "Python 3",
   "language": "python",
   "name": "python3"
  },
  "language_info": {
   "codemirror_mode": {
    "name": "ipython",
    "version": 3
   },
   "file_extension": ".py",
   "mimetype": "text/x-python",
   "name": "python",
   "nbconvert_exporter": "python",
   "pygments_lexer": "ipython3",
   "version": "3.8.8"
  }
 },
 "nbformat": 4,
 "nbformat_minor": 5
}
