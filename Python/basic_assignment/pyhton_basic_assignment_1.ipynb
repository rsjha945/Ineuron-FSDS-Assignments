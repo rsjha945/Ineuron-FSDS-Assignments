{
 "cells": [
  {
   "cell_type": "markdown",
   "id": "b4143d65",
   "metadata": {},
   "source": [
    "#### 1.  In the below elements which of them are values or an expression? eg:- values can be integer or string and expressions will be mathematical operators.\n",
    "\n",
    "##### * \n",
    "#####  'hello'\n",
    "#####  -87.8\n",
    " - \n",
    " / \n",
    " +\t\n",
    " 6\n",
    "\n"
   ]
  },
  {
   "cell_type": "code",
   "execution_count": null,
   "id": "78661cab",
   "metadata": {},
   "outputs": [],
   "source": [
    "Solution.\n",
    "\n",
    "Expressions: *, -, /, +\n",
    "Values     : -87.8, 6, 'hello'"
   ]
  },
  {
   "cell_type": "markdown",
   "id": "bcfc8ddd",
   "metadata": {},
   "source": [
    "##### 2. What is the difference between string and variable?"
   ]
  },
  {
   "cell_type": "code",
   "execution_count": null,
   "id": "6d849472",
   "metadata": {},
   "outputs": [],
   "source": [
    "String is a sequence of characters,It is always quoted in single or double quotes\n",
    "while variable is used to store the values of different data types"
   ]
  },
  {
   "cell_type": "markdown",
   "id": "24aec01b",
   "metadata": {},
   "source": [
    "#### 3. Describe three different data types."
   ]
  },
  {
   "cell_type": "code",
   "execution_count": null,
   "id": "64392553",
   "metadata": {},
   "outputs": [],
   "source": [
    "a. integer: int is a data type which is used to store the whole numbers.\n",
    "b. String :  String is a sequence of characters,It is always quoted in single or double quotes\n",
    "c. set    : set is an unordered collection of data type that is iterable, mutable and unique."
   ]
  },
  {
   "cell_type": "markdown",
   "id": "232bf2f1",
   "metadata": {},
   "source": [
    "#### 4.What is an expression made up of? What do all expressions do?"
   ]
  },
  {
   "cell_type": "code",
   "execution_count": null,
   "id": "145e31e2",
   "metadata": {},
   "outputs": [],
   "source": [
    "Expressions are made of operands and operators\n",
    "Expressios are constructed to evaluate the value."
   ]
  },
  {
   "cell_type": "markdown",
   "id": "84ddbfaf",
   "metadata": {},
   "source": [
    "#### 5. This assignment statements, like spam = 10. What is the difference between an expression and a statement?"
   ]
  },
  {
   "cell_type": "code",
   "execution_count": null,
   "id": "7262a040",
   "metadata": {},
   "outputs": [],
   "source": [
    "Expression is an instruction to be executed that returns a value.\n",
    "while statement is used to form the sequence of programs."
   ]
  },
  {
   "cell_type": "markdown",
   "id": "04732c77",
   "metadata": {},
   "source": [
    "#### 6. After running the following code, what does the variable bacon contain?\n",
    "#### bacon = 22\n",
    "#### bacon + 1\n"
   ]
  },
  {
   "cell_type": "code",
   "execution_count": null,
   "id": "47efe823",
   "metadata": {},
   "outputs": [],
   "source": [
    "bacon = 22\n",
    "bacon will contain still 22. after getting increment by 1 it is not getting store in bacon, so bacon is still have 22"
   ]
  },
  {
   "cell_type": "markdown",
   "id": "8c1522d7",
   "metadata": {},
   "source": [
    "#### 7. What should the values of the following two terms be?\n",
    "#### 'spam' + 'spamspam'\n",
    "#### 'spam' * 3\n"
   ]
  },
  {
   "cell_type": "code",
   "execution_count": null,
   "id": "c027c255",
   "metadata": {},
   "outputs": [],
   "source": [
    "'spamspamspam' and 'spamspamspam'. The values for both the expressions will be same."
   ]
  },
  {
   "cell_type": "markdown",
   "id": "70bf0fa0",
   "metadata": {},
   "source": [
    "#### 8. Why is eggs a valid variable name while 100 is invalid?"
   ]
  },
  {
   "cell_type": "code",
   "execution_count": null,
   "id": "fa4b0a3f",
   "metadata": {},
   "outputs": [],
   "source": [
    "Because in Python variable name can start with letters but not with numbers."
   ]
  },
  {
   "cell_type": "markdown",
   "id": "7f6e6193",
   "metadata": {},
   "source": [
    "#### 9.What three functions can be used to get the integer, floating-point number, or string version of a value"
   ]
  },
  {
   "cell_type": "code",
   "execution_count": null,
   "id": "75a1c8cf",
   "metadata": {},
   "outputs": [],
   "source": [
    "int(), float() and str() functions are used to get the integer, floating-point and string values respectively"
   ]
  },
  {
   "cell_type": "markdown",
   "id": "a1f0e7d9",
   "metadata": {},
   "source": [
    "#### 10. Why does this expression cause an error? How can you fix it?\n",
    "#### 'I have eaten ' + 99 + ' burritos.'\n"
   ]
  },
  {
   "cell_type": "code",
   "execution_count": null,
   "id": "3b3f0353",
   "metadata": {},
   "outputs": [],
   "source": [
    "here 99 is integer so it can not concatenate with string.\n",
    "But we can make 99 as string so that it will concatenate with string and do not raise an error\n",
    "'I have eaten ' + '99' + ' burritos.'"
   ]
  }
 ],
 "metadata": {
  "kernelspec": {
   "display_name": "Python 3",
   "language": "python",
   "name": "python3"
  },
  "language_info": {
   "codemirror_mode": {
    "name": "ipython",
    "version": 3
   },
   "file_extension": ".py",
   "mimetype": "text/x-python",
   "name": "python",
   "nbconvert_exporter": "python",
   "pygments_lexer": "ipython3",
   "version": "3.8.8"
  }
 },
 "nbformat": 4,
 "nbformat_minor": 5
}
