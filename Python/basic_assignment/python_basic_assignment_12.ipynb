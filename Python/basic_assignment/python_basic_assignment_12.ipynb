{
 "cells": [
  {
   "cell_type": "markdown",
   "id": "282e1e76",
   "metadata": {},
   "source": [
    "#### 1. In what modes should the PdfFileReader() and PdfFileWriter() File objects will be opened?"
   ]
  },
  {
   "cell_type": "markdown",
   "id": "770f0216",
   "metadata": {},
   "source": [
    "PdfFileReader() should be open in read binary mode while PdfFileWriter should be open in write binary mode."
   ]
  },
  {
   "cell_type": "markdown",
   "id": "2d9beec3",
   "metadata": {},
   "source": [
    "#### 2. From a PdfFileReader object, how do you get a Page object for page 5?"
   ]
  },
  {
   "cell_type": "markdown",
   "id": "c885fcd2",
   "metadata": {},
   "source": [
    "To get a page number we can call getPage(5) on a PdfFileReader() by passing the page number in the getPage()."
   ]
  },
  {
   "cell_type": "markdown",
   "id": "de4efc35",
   "metadata": {},
   "source": [
    "#### 3. What PdfFileReader variable stores the number of pages in the PDF document?"
   ]
  },
  {
   "cell_type": "markdown",
   "id": "cd699279",
   "metadata": {},
   "source": [
    "A numPages attribute stores the integer of the number of pages in the PdfFileReader object."
   ]
  },
  {
   "cell_type": "markdown",
   "id": "fbaeacc7",
   "metadata": {},
   "source": [
    "#### 4. If a PdfFileReader object’s PDF is encrypted with the password swordfish, what must you do before you can obtain Page objects from it?"
   ]
  },
  {
   "cell_type": "markdown",
   "id": "8123491d",
   "metadata": {},
   "source": [
    "So, we have to decrypt the file using below \n",
    " filename.decrypt('swordfish')"
   ]
  },
  {
   "cell_type": "markdown",
   "id": "1f02c570",
   "metadata": {},
   "source": [
    "#### 5. What methods do you use to rotate a page?"
   ]
  },
  {
   "cell_type": "markdown",
   "id": "dcf3c247",
   "metadata": {},
   "source": [
    "To rotate a page in pdf document we can use the shortcut \"ctrl+shift+L\" or \"ctrl+shift+R\" to rotate left or right."
   ]
  },
  {
   "cell_type": "markdown",
   "id": "eb08c63a",
   "metadata": {},
   "source": [
    "#### 6. What is the difference between a Run object and a Paragraph object?"
   ]
  },
  {
   "cell_type": "markdown",
   "id": "e95dbecd",
   "metadata": {},
   "source": [
    "Run object has a text attribute containing just the text in that particular run while Paragraph object has a list of Run ojects."
   ]
  },
  {
   "cell_type": "markdown",
   "id": "a504ccc9",
   "metadata": {},
   "source": [
    "#### 7. How do you obtain a list of Paragraph objects for a Document object that’s stored in a variable named doc ?"
   ]
  },
  {
   "cell_type": "code",
   "execution_count": null,
   "id": "50a31df2",
   "metadata": {},
   "outputs": [],
   "source": []
  },
  {
   "cell_type": "markdown",
   "id": "26e4894f",
   "metadata": {},
   "source": [
    "#### 8. What type of object has bold, underline, italic, strike, and outline variables?"
   ]
  },
  {
   "cell_type": "code",
   "execution_count": null,
   "id": "1e5fe91e",
   "metadata": {},
   "outputs": [],
   "source": []
  },
  {
   "cell_type": "markdown",
   "id": "08bd63a8",
   "metadata": {},
   "source": [
    "#### 9. What is the difference between False, True, and None for the bold variable?"
   ]
  },
  {
   "cell_type": "markdown",
   "id": "15111f96",
   "metadata": {},
   "source": [
    "True and False are used where the field takes a boolean value and None is used where the field takes an optional value."
   ]
  },
  {
   "cell_type": "markdown",
   "id": "f331ecc4",
   "metadata": {},
   "source": [
    "#### 10. How do you create a Document object for a new Word document?"
   ]
  },
  {
   "cell_type": "markdown",
   "id": "8e8152b4",
   "metadata": {},
   "source": [
    "To create a document object first we have to import the \"docx\" module and after that create  document object by using docx.document()."
   ]
  },
  {
   "cell_type": "markdown",
   "id": "ee06f56f",
   "metadata": {},
   "source": [
    "#### 11. How do you add a paragraph with the text 'Hello, there!' to a Document object stored in a variable named doc?"
   ]
  },
  {
   "cell_type": "markdown",
   "id": "0f345aab",
   "metadata": {},
   "source": [
    "import docx\n",
    "doc = docs.Document()\n",
    "doc.add_paragraph('Hello, there!')"
   ]
  },
  {
   "cell_type": "markdown",
   "id": "5a2df08b",
   "metadata": {},
   "source": [
    "#### 12. What integers represent the levels of headings available in Word documents?"
   ]
  },
  {
   "cell_type": "markdown",
   "id": "fff37f76",
   "metadata": {},
   "source": [
    "Top level headings are  numbered as 1, 2, 3 etc and second level headings are numbered as 1.1, 1.2, 1.3 etc."
   ]
  }
 ],
 "metadata": {
  "kernelspec": {
   "display_name": "Python 3",
   "language": "python",
   "name": "python3"
  },
  "language_info": {
   "codemirror_mode": {
    "name": "ipython",
    "version": 3
   },
   "file_extension": ".py",
   "mimetype": "text/x-python",
   "name": "python",
   "nbconvert_exporter": "python",
   "pygments_lexer": "ipython3",
   "version": "3.8.8"
  }
 },
 "nbformat": 4,
 "nbformat_minor": 5
}
