{
 "cells": [
  {
   "cell_type": "markdown",
   "id": "e75064af",
   "metadata": {},
   "source": [
    "#### 1. How do you distinguish between shutil.copy() and shutil.copytree()?"
   ]
  },
  {
   "cell_type": "raw",
   "id": "ef4e05e5",
   "metadata": {},
   "source": [
    "shutil.copy() will copy a single file while shutil.copytree() will copy an entire folder."
   ]
  },
  {
   "cell_type": "markdown",
   "id": "f216129d",
   "metadata": {},
   "source": [
    "#### 2. What function is used to rename files?"
   ]
  },
  {
   "cell_type": "raw",
   "id": "c7c7b918",
   "metadata": {},
   "source": [
    "os.rename() method is used to rename a file or directory."
   ]
  },
  {
   "cell_type": "markdown",
   "id": "50273129",
   "metadata": {},
   "source": [
    "#### 3. What is the difference between the delete functions in the send2trash and shutil modules?"
   ]
  },
  {
   "cell_type": "markdown",
   "id": "806696c3",
   "metadata": {},
   "source": [
    "send2trash function will move the files or directories to the recycle bin while shutil function will permanently delete the files or folders."
   ]
  },
  {
   "cell_type": "markdown",
   "id": "d130233b",
   "metadata": {},
   "source": [
    "#### 4.ZipFile objects have a close() method just like File objects’ close() method. What ZipFile method is equivalent to File objects’ open() method?"
   ]
  },
  {
   "cell_type": "markdown",
   "id": "a2915f49",
   "metadata": {},
   "source": [
    "ZipFile() method in ZipFile is equivelent to open() method in File objects."
   ]
  },
  {
   "cell_type": "markdown",
   "id": "0257d1f0",
   "metadata": {},
   "source": [
    "#### 5. Create a programme that searches a folder tree for files with a certain file extension (such as .pdf or .jpg). Copy these files from whatever location they are in to a new folder."
   ]
  },
  {
   "cell_type": "code",
   "execution_count": 3,
   "id": "3e4c392d",
   "metadata": {},
   "outputs": [
    {
     "name": "stdout",
     "output_type": "stream",
     "text": [
      "C:\\Users\\acer\\Full Stack Data Science Course\\Python Assignment\\randaom folder\n",
      "C:\\Users\\acer\\Full Stack Data Science Course\\Python Assignment\\dest folder\n",
      "looking in  C:\\Users\\acer\\Full Stack Data Science Course\\Python Assignment\\randaom folder  for file extensions of  .pdf,.jpg,.py,.php\n"
     ]
    }
   ],
   "source": [
    "import os, shutil\n",
    "\n",
    "def searchFile(extensions, folder, destfolder):\n",
    "    folder = os.path.abspath(folder)\n",
    "    destfolder = os.path.abspath(destfolder)\n",
    "    print(folder)\n",
    "    print(destfolder)\n",
    "    print('looking in ', folder, ' for file extensions of ',','. join(extensions))\n",
    "    for root, dirct, files in os.walk(folder):\n",
    "        print(root)\n",
    "        print(dirct)\n",
    "        print(files)\n",
    "        for file in files:\n",
    "            name, ext = os.path.splitext(file)\n",
    "            #print(name)\n",
    "            #print(ext)\n",
    "            if ext in extensions:\n",
    "                fileAbsPath = root + os.path.sep + file\n",
    "                print('copying ', fileAbsPath, 'to ', destfolder)\n",
    "                shutil.copy(fileAbsPath, destfolder)\n",
    "\n",
    "extensions = ['.pdf', '.jpg', '.py', '.php']\n",
    "folder = 'randaom folder'\n",
    "destfolder = 'dest folder'\n",
    "searchFile(extensions, folder, destfolder)\n"
   ]
  },
  {
   "cell_type": "code",
   "execution_count": null,
   "id": "a7911fc7",
   "metadata": {},
   "outputs": [],
   "source": []
  }
 ],
 "metadata": {
  "kernelspec": {
   "display_name": "Python 3",
   "language": "python",
   "name": "python3"
  },
  "language_info": {
   "codemirror_mode": {
    "name": "ipython",
    "version": 3
   },
   "file_extension": ".py",
   "mimetype": "text/x-python",
   "name": "python",
   "nbconvert_exporter": "python",
   "pygments_lexer": "ipython3",
   "version": "3.8.8"
  }
 },
 "nbformat": 4,
 "nbformat_minor": 5
}
