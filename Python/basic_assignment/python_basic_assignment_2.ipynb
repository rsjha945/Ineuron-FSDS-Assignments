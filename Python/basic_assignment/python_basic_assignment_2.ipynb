{
 "cells": [
  {
   "cell_type": "markdown",
   "id": "ed8610d6",
   "metadata": {},
   "source": [
    "#### 1.What are the two values of the Boolean data type? How do you write them?"
   ]
  },
  {
   "cell_type": "code",
   "execution_count": null,
   "id": "f55a1bf1",
   "metadata": {},
   "outputs": [],
   "source": [
    "Two values of the Boolean data type are True and False.\n",
    "If the expression is true then we can write True and If the expression is not true then we can write False "
   ]
  },
  {
   "cell_type": "markdown",
   "id": "0d0b4119",
   "metadata": {},
   "source": [
    "#### 2 What are the three different types of Boolean operators?"
   ]
  },
  {
   "cell_type": "code",
   "execution_count": null,
   "id": "6cad8115",
   "metadata": {},
   "outputs": [],
   "source": [
    "The three different type of boolean operators are AND, OR, NOT which areused to compare the values"
   ]
  },
  {
   "cell_type": "markdown",
   "id": "505f8a80",
   "metadata": {},
   "source": [
    "#### 3. Make a list of each Boolean operator's truth tables (i.e. every possible combination of Boolean values for the operator and what it evaluate )."
   ]
  },
  {
   "cell_type": "code",
   "execution_count": null,
   "id": "7aea989a",
   "metadata": {},
   "outputs": [],
   "source": [
    "AND Operator:\n",
    "    True AND True = True,\n",
    "    True And False = False,\n",
    "    False AND True = False,\n",
    "    False And False = False,\n",
    " \n",
    "OR operator:\n",
    "    True OR True = True,\n",
    "    True OR False = True,\n",
    "    False OR True = True,\n",
    "    False OR False = False\n",
    "    \n",
    "NOT operator:\n",
    "    NOT True = False,\n",
    "    NOT False = True"
   ]
  },
  {
   "cell_type": "markdown",
   "id": "5b7f27aa",
   "metadata": {},
   "source": [
    "#### 4. What are the values of the following expressions?\n",
    "##### (5 > 4) and (3 == 5) \n",
    "##### not (5 > 4)\n",
    "##### 5 > 4) or (3 == 5)\n",
    "##### not ((5 > 4) or (3 == 5))\n",
    "##### (True and True) and (True == False)\n",
    "##### (not False) or (not True)"
   ]
  },
  {
   "cell_type": "code",
   "execution_count": null,
   "id": "f2242461",
   "metadata": {},
   "outputs": [],
   "source": [
    "1. False\n",
    "2. False\n",
    "3. True\n",
    "4. False\n",
    "5. False\n",
    "5. True"
   ]
  },
  {
   "cell_type": "markdown",
   "id": "d6b470a1",
   "metadata": {},
   "source": [
    "#### 5. What are the six comparison operators"
   ]
  },
  {
   "cell_type": "code",
   "execution_count": null,
   "id": "0003526b",
   "metadata": {},
   "outputs": [],
   "source": [
    "The six comparison operators are:\n",
    "1. less then (<)\n",
    "2. greater then (>)\n",
    "3. less then or equal to (<=)\n",
    "4. greater then or equal to (>=)\n",
    "5. equal to (=)\n",
    "6. not equal to (!=)"
   ]
  },
  {
   "cell_type": "markdown",
   "id": "2e9775c7",
   "metadata": {},
   "source": [
    "#### 6. How do you tell the difference between the equal to and assignment operators?Describe a condition and when you would use one."
   ]
  },
  {
   "cell_type": "code",
   "execution_count": null,
   "id": "61db1cbd",
   "metadata": {},
   "outputs": [],
   "source": [
    "The '=' is an assignment operator used to assign the value on the right to the value on the left whereas '==' is an equal to operator used to compare the two operands are equal or not\n",
    "\n",
    "a = 1 means that 1 is assigning to the variable a and a==1 compare the two operands are equal or not so, it will return False\n"
   ]
  },
  {
   "cell_type": "markdown",
   "id": "b0a1423f",
   "metadata": {},
   "source": [
    "#### 7. Identify the three blocks in this code:\n",
    "\n",
    "##### spam = 0\n",
    "##### if spam == 10:\n",
    "##### print('eggs')\n",
    "##### if spam > 5:\n",
    "##### print('bacon')\n",
    "##### else:\n",
    "##### print('ham')\n",
    "##### print('spam')\n",
    "##### print('spam')"
   ]
  },
  {
   "cell_type": "code",
   "execution_count": 4,
   "id": "a9b2ea1a",
   "metadata": {},
   "outputs": [
    {
     "name": "stdout",
     "output_type": "stream",
     "text": [
      "ham\n",
      "spam\n",
      "spam\n"
     ]
    }
   ],
   "source": [
    "spam = 0\n",
    "if spam == 10:\n",
    "    print('eggs')\n",
    "elif spam > 5:\n",
    "\n",
    "    print('bacon')\n",
    "else:\n",
    "    print('ham')\n",
    "    print('spam')\n",
    "    print('spam')"
   ]
  },
  {
   "cell_type": "markdown",
   "id": "22d75942",
   "metadata": {},
   "source": [
    "#### 8. Write code that prints Hello if 1 is stored in spam, prints Howdy if 2 is stored in spam, and prints Greetings! if anything else is stored in spam."
   ]
  },
  {
   "cell_type": "code",
   "execution_count": 5,
   "id": "db6b2611",
   "metadata": {},
   "outputs": [
    {
     "name": "stdout",
     "output_type": "stream",
     "text": [
      "Greetings!\n"
     ]
    }
   ],
   "source": [
    "spam = 0\n",
    "if spam == 1:\n",
    "    print(\"Hello\")\n",
    "elif spam == 2:\n",
    "    print(\"Howdy\")\n",
    "else:\n",
    "    print(\"Greetings!\")"
   ]
  },
  {
   "cell_type": "markdown",
   "id": "99f43856",
   "metadata": {},
   "source": [
    "#### 9.If your programme is stuck in an endless loop, what keys you’ll press?"
   ]
  },
  {
   "cell_type": "code",
   "execution_count": null,
   "id": "b84e6c8a",
   "metadata": {},
   "outputs": [],
   "source": [
    "If our programme is stuck in endless loop then we can try to press \"ctrl + c\""
   ]
  },
  {
   "cell_type": "markdown",
   "id": "2c122bd6",
   "metadata": {},
   "source": [
    "#### 10. How can you tell the difference between break and continue?"
   ]
  },
  {
   "cell_type": "code",
   "execution_count": null,
   "id": "706e9ce5",
   "metadata": {},
   "outputs": [],
   "source": [
    "Break is used to immediate termination of the loop whereas continue is used to terminate the current iteration and resumes the control to the next iteration of the loop"
   ]
  },
  {
   "cell_type": "markdown",
   "id": "05322b20",
   "metadata": {},
   "source": [
    "#### 11. In a for loop, what is the difference between range(10), range(0, 10), and range(0, 10, 1)?"
   ]
  },
  {
   "cell_type": "code",
   "execution_count": null,
   "id": "3fed9c25",
   "metadata": {},
   "outputs": [],
   "source": [
    "There is no difference between range(10), range(0, 10) and range(0, 10, 1) when we will iterate through all of these, all three will give same values i.e, 0, 1, 2, 3, 4, 5, 6, 7, 8, 9."
   ]
  },
  {
   "cell_type": "markdown",
   "id": "e2af831b",
   "metadata": {},
   "source": [
    "#### 12. Write a short program that prints the numbers 1 to 10 using a for loop. Then write an equivalent program that prints the numbers 1 to 10 using a while loop."
   ]
  },
  {
   "cell_type": "code",
   "execution_count": 21,
   "id": "eed8b78a",
   "metadata": {},
   "outputs": [
    {
     "name": "stdout",
     "output_type": "stream",
     "text": [
      "1\n",
      "2\n",
      "3\n",
      "4\n",
      "5\n",
      "6\n",
      "7\n",
      "8\n",
      "9\n",
      "10\n"
     ]
    }
   ],
   "source": [
    "for num in range(1, 11):\n",
    "    print(num)"
   ]
  },
  {
   "cell_type": "code",
   "execution_count": 6,
   "id": "f4ad74e1",
   "metadata": {},
   "outputs": [
    {
     "name": "stdout",
     "output_type": "stream",
     "text": [
      "1\n",
      "2\n",
      "3\n",
      "4\n",
      "5\n",
      "6\n",
      "7\n",
      "8\n",
      "9\n",
      "10\n",
      "11\n"
     ]
    }
   ],
   "source": [
    "#solution 2: while loop\n",
    "i=1\n",
    "while(i<12):\n",
    "    print(i)\n",
    "    i = i+1"
   ]
  },
  {
   "cell_type": "markdown",
   "id": "aacb7507",
   "metadata": {},
   "source": [
    "#### 13. If you had a function named bacon() inside a module named spam, how would you call it after importing spam?"
   ]
  },
  {
   "cell_type": "code",
   "execution_count": 8,
   "id": "c6e04725",
   "metadata": {},
   "outputs": [],
   "source": [
    "import spam\n",
    "spam.bacon()"
   ]
  }
 ],
 "metadata": {
  "kernelspec": {
   "display_name": "Python 3",
   "language": "python",
   "name": "python3"
  },
  "language_info": {
   "codemirror_mode": {
    "name": "ipython",
    "version": 3
   },
   "file_extension": ".py",
   "mimetype": "text/x-python",
   "name": "python",
   "nbconvert_exporter": "python",
   "pygments_lexer": "ipython3",
   "version": "3.8.8"
  }
 },
 "nbformat": 4,
 "nbformat_minor": 5
}
