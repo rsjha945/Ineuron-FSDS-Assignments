{
 "cells": [
  {
   "cell_type": "markdown",
   "id": "4b424957",
   "metadata": {},
   "source": [
    "#### 1. What does RGBA stand for?"
   ]
  },
  {
   "cell_type": "markdown",
   "id": "5170f370",
   "metadata": {},
   "source": [
    "RGBA stands for RED GREEN BLUE ALPHA."
   ]
  },
  {
   "cell_type": "markdown",
   "id": "7e07e433",
   "metadata": {},
   "source": [
    "#### 2. From the Pillow module, how do you get the RGBA value of any images?"
   ]
  },
  {
   "cell_type": "markdown",
   "id": "65d7e380",
   "metadata": {},
   "source": [
    "To get the RGBA value of any images from Pillow module we should follow 3 steps:-\n",
    "    1. open the image, using image.open('image_name.png')\n",
    "    2. convert the image to RGBA, using image.convert(\"RGBA\")\n",
    "    3. get the RGBA value of that image, using image.getdata()"
   ]
  },
  {
   "cell_type": "markdown",
   "id": "69484bdc",
   "metadata": {},
   "source": [
    "#### 3. What is a box tuple, and how does it work?"
   ]
  },
  {
   "cell_type": "markdown",
   "id": "a08ac2e1",
   "metadata": {},
   "source": [
    "Box tuple has four integer coordinates these are Left, Top, Right and Bottom. Box tuple only includes the left and top coordinates and does not include the right and bottm coordinates.\n",
    "Box tuple represents the regtangular region of an image."
   ]
  },
  {
   "cell_type": "markdown",
   "id": "b4a9f2cc",
   "metadata": {},
   "source": [
    "####  4. Use your image and load in notebook then, How can you find out the width and height of an Image object?"
   ]
  },
  {
   "cell_type": "code",
   "execution_count": 11,
   "id": "9bb089dd",
   "metadata": {},
   "outputs": [
    {
     "name": "stdout",
     "output_type": "stream",
     "text": [
      "472\n",
      "366\n"
     ]
    }
   ],
   "source": [
    "#importing PIL module\n",
    "from PIL import Image\n",
    "\n",
    "#get the image\n",
    "img = Image.open('C:\\\\Users\\\\acer\\\\OneDrive\\\\Desktop\\\\resume\\\\photo.jpg')\n",
    "img.show() #read image\n",
    "\n",
    "print(img.height) # height of image\n",
    "print(img.width) # width of image"
   ]
  },
  {
   "cell_type": "markdown",
   "id": "82486c62",
   "metadata": {},
   "source": [
    "#### 5. What method would you call to get Image object for a 100×100 image, excluding the lower-left quarter of it?"
   ]
  },
  {
   "cell_type": "markdown",
   "id": "c5530cbb",
   "metadata": {},
   "source": [
    "we can call crop() method to get image object for a 100x100 image, excliding the lower-left quarter of it."
   ]
  },
  {
   "cell_type": "markdown",
   "id": "03015d62",
   "metadata": {},
   "source": [
    "#### 6. After making changes to an Image object, how could you save it as an image file? "
   ]
  },
  {
   "cell_type": "markdown",
   "id": "cab4c808",
   "metadata": {},
   "source": [
    "we can save an image using save() method after making changes to an image object."
   ]
  },
  {
   "cell_type": "markdown",
   "id": "12a47923",
   "metadata": {},
   "source": [
    "#### 7. What module contains Pillow’s shape-drawing code?"
   ]
  },
  {
   "cell_type": "markdown",
   "id": "2268e777",
   "metadata": {},
   "source": [
    "\"ImageDraw\" module contains Pillow's shape-drawing code."
   ]
  },
  {
   "cell_type": "markdown",
   "id": "55b7bf72",
   "metadata": {},
   "source": [
    "#### 8. Image objects do not have drawing methods. What kind of object does? How do you get this kind of object?"
   ]
  },
  {
   "cell_type": "markdown",
   "id": "174a90b0",
   "metadata": {},
   "source": [
    "ImageDraw has drawing methods"
   ]
  }
 ],
 "metadata": {
  "kernelspec": {
   "display_name": "Python 3",
   "language": "python",
   "name": "python3"
  },
  "language_info": {
   "codemirror_mode": {
    "name": "ipython",
    "version": 3
   },
   "file_extension": ".py",
   "mimetype": "text/x-python",
   "name": "python",
   "nbconvert_exporter": "python",
   "pygments_lexer": "ipython3",
   "version": "3.8.8"
  }
 },
 "nbformat": 4,
 "nbformat_minor": 5
}
