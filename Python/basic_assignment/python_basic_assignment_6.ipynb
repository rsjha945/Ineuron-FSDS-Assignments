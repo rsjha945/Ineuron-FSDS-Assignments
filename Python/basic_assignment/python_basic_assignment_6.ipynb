{
 "cells": [
  {
   "cell_type": "markdown",
   "id": "5235de90",
   "metadata": {},
   "source": [
    "#### 1. What are escape characters, and how do you use them?"
   ]
  },
  {
   "cell_type": "code",
   "execution_count": null,
   "id": "6d0ab241",
   "metadata": {},
   "outputs": [],
   "source": [
    "An escape character is a backslash \\ followed by the character we want to insert.\n",
    "If we want to show the double quoted word inside the double quoted string then we must use backsash \\ before the double quoted word.\n",
    "eg. \"This is a \\\"double\\\" qouted sentence\"."
   ]
  },
  {
   "cell_type": "markdown",
   "id": "f9faad24",
   "metadata": {},
   "source": [
    "#### 2. What do the escape characters n and t stand for?"
   ]
  },
  {
   "cell_type": "code",
   "execution_count": null,
   "id": "a45bb814",
   "metadata": {},
   "outputs": [],
   "source": [
    "\"\\t\" is used for tab and \"\\n\" is used for newline."
   ]
  },
  {
   "cell_type": "markdown",
   "id": "bd3ba9a8",
   "metadata": {},
   "source": [
    "#### 3. What is the way to include backslash characters in a string?"
   ]
  },
  {
   "cell_type": "code",
   "execution_count": null,
   "id": "5673abd8",
   "metadata": {},
   "outputs": [],
   "source": [
    "If we want to include backslash character, we need two backslashes or @ symol.\n",
    "eg. \"\\\\test\" or \"@\\test\""
   ]
  },
  {
   "cell_type": "markdown",
   "id": "d13feb9a",
   "metadata": {},
   "source": [
    "#### 4. The string \"Howl's Moving Castle\" is a correct value. Why isn't the single quote character in the word Howl's not escaped a problem?"
   ]
  },
  {
   "cell_type": "code",
   "execution_count": null,
   "id": "03493b3d",
   "metadata": {},
   "outputs": [],
   "source": [
    "Because we can use single quote inside the double quoted string or we can use double quote inside the single quoted string."
   ]
  },
  {
   "cell_type": "markdown",
   "id": "03fcce90",
   "metadata": {},
   "source": [
    "#### 5. How do you write a string of newlines if you don't want to use the n character?"
   ]
  },
  {
   "cell_type": "code",
   "execution_count": null,
   "id": "437ed2e6",
   "metadata": {},
   "outputs": [],
   "source": [
    "Python print function by default ends with a newline. If print function executed then the cursor automatically go to the next line."
   ]
  },
  {
   "cell_type": "markdown",
   "id": "0940fa65",
   "metadata": {},
   "source": [
    "#### 6. What are the values of the given expressions?\n",
    "##### 'Hello, world!'[1]\n",
    "##### 'Hello, world!'[0:5]\n",
    "##### 'Hello, world!'[:5]\n",
    "##### 'Hello, world!'[3:]\n"
   ]
  },
  {
   "cell_type": "code",
   "execution_count": 2,
   "id": "7028cabb",
   "metadata": {},
   "outputs": [
    {
     "data": {
      "text/plain": [
       "'lo, world!'"
      ]
     },
     "execution_count": 2,
     "metadata": {},
     "output_type": "execute_result"
    }
   ],
   "source": [
    "'e'\n",
    "'Hello'\n",
    "'Hello'\n",
    "'lo, world!'"
   ]
  },
  {
   "cell_type": "markdown",
   "id": "10a6bf8d",
   "metadata": {},
   "source": [
    "#### 7. What are the values of the following expressions?\n",
    "##### 'Hello'.upper()\n",
    "##### 'Hello'.upper().isupper()\n",
    "##### 'Hello'.upper().lower()"
   ]
  },
  {
   "cell_type": "code",
   "execution_count": 1,
   "id": "d8cf712d",
   "metadata": {},
   "outputs": [
    {
     "data": {
      "text/plain": [
       "'hello'"
      ]
     },
     "execution_count": 1,
     "metadata": {},
     "output_type": "execute_result"
    }
   ],
   "source": [
    "'HELLO'\n",
    "True\n",
    "'hello'"
   ]
  },
  {
   "cell_type": "markdown",
   "id": "55b86c96",
   "metadata": {},
   "source": [
    "#### 8. What are the values of the following expressions?\n",
    "##### 'Remember, remember, the fifth of July.'.split()\n",
    "##### '-'.join('There can only one.'.split())\n"
   ]
  },
  {
   "cell_type": "code",
   "execution_count": null,
   "id": "0492fa7d",
   "metadata": {},
   "outputs": [],
   "source": [
    "['Remember,', 'remember,', 'the', 'fifth', 'of', 'July.']\n",
    "'There-can-only-one.'"
   ]
  },
  {
   "cell_type": "markdown",
   "id": "64e92cc7",
   "metadata": {},
   "source": [
    "#### 9. What are the methods for right-justifying, left-justifying, and centering a string?"
   ]
  },
  {
   "cell_type": "code",
   "execution_count": null,
   "id": "53d0310a",
   "metadata": {},
   "outputs": [],
   "source": [
    "The right-justifying or rjust() function right aligns the string according to the width specified and fills remaining space of line with blank.\n",
    "\n",
    "The left-justifying or ljust() function left aligns the string according to the width specified and fills remaining space of line with blank.\n",
    "\n",
    "\n",
    "The centring or center() function center aligns the string according to the width specified and fills remaining space of line with blank."
   ]
  },
  {
   "cell_type": "markdown",
   "id": "7c4cca15",
   "metadata": {},
   "source": [
    "#### 10. What is the best way to remove whitespace characters from the start or end?"
   ]
  },
  {
   "cell_type": "code",
   "execution_count": null,
   "id": "ee5a68ec",
   "metadata": {},
   "outputs": [],
   "source": [
    "strip() method removes the whitespace from both the beginng and end of the string."
   ]
  }
 ],
 "metadata": {
  "kernelspec": {
   "display_name": "Python 3",
   "language": "python",
   "name": "python3"
  },
  "language_info": {
   "codemirror_mode": {
    "name": "ipython",
    "version": 3
   },
   "file_extension": ".py",
   "mimetype": "text/x-python",
   "name": "python",
   "nbconvert_exporter": "python",
   "pygments_lexer": "ipython3",
   "version": "3.8.8"
  }
 },
 "nbformat": 4,
 "nbformat_minor": 5
}
