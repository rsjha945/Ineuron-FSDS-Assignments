{
 "cells": [
  {
   "cell_type": "markdown",
   "id": "faa744c3",
   "metadata": {},
   "source": [
    "#### 1. Create an assert statement that throws an AssertionError if the variable spam is a negative integer."
   ]
  },
  {
   "cell_type": "code",
   "execution_count": 1,
   "id": "ce4a370d",
   "metadata": {},
   "outputs": [],
   "source": [
    "def assert_func(num):\n",
    "    try:\n",
    "        assert num > 0, \"Value should be positive\"\n",
    "    except AssertionError as msg:\n",
    "        print(msg)\n",
    "assert_func(1)"
   ]
  },
  {
   "cell_type": "markdown",
   "id": "9bb0e293",
   "metadata": {},
   "source": [
    "#### 2. Write an assert statement that triggers an AssertionError if the variables eggs and bacon contain strings that are the same as each other, even if their cases are different (that is, 'hello' and 'hello' are considered the same, and 'goodbye' and 'GOODbye' are also considered the same)."
   ]
  },
  {
   "cell_type": "code",
   "execution_count": 2,
   "id": "426434eb",
   "metadata": {},
   "outputs": [],
   "source": [
    "def assert_same_values(eggs, bacon):\n",
    "    try:\n",
    "        eggs = eggs.upper()\n",
    "        bacon = bacon.upper()\n",
    "        assert eggs == bacon, \"Both the values should be same\"\n",
    "    except AssertionError as msg:\n",
    "        print(msg)\n",
    "assert_same_values('HELLO', 'hello')"
   ]
  },
  {
   "cell_type": "markdown",
   "id": "59b62c49",
   "metadata": {},
   "source": [
    "#### 3. Create an assert statement that throws an AssertionError every time."
   ]
  },
  {
   "cell_type": "code",
   "execution_count": 3,
   "id": "105eb194",
   "metadata": {},
   "outputs": [
    {
     "name": "stdout",
     "output_type": "stream",
     "text": [
      "Throws error every time\n"
     ]
    }
   ],
   "source": [
    "def assertion_error(bool_val):\n",
    "    try:\n",
    "        assert bool_val, \"Throws error every time\"\n",
    "    except AssertionError as msg:\n",
    "        print(msg)\n",
    "assertion_error(False)"
   ]
  },
  {
   "cell_type": "markdown",
   "id": "539680bf",
   "metadata": {},
   "source": [
    "#### 4. What are the two lines that must be present in your software in order to call logging.debug()?"
   ]
  },
  {
   "cell_type": "code",
   "execution_count": 4,
   "id": "4df5d6e2",
   "metadata": {},
   "outputs": [],
   "source": [
    "import logging\n",
    "logging.basicConfig(level=logging.DEBUG)"
   ]
  },
  {
   "cell_type": "markdown",
   "id": "ee67ca00",
   "metadata": {},
   "source": [
    "#### 5. What are the two lines that your program must have in order to have logging.debug() send a logging message to a file named programLog.txt?"
   ]
  },
  {
   "cell_type": "code",
   "execution_count": 5,
   "id": "662ae37a",
   "metadata": {},
   "outputs": [],
   "source": [
    "import logging\n",
    "logging.basicConfig(filename='programLog.txt', format=\"%(asctime)s %(message)s\", filemode='w')"
   ]
  },
  {
   "cell_type": "markdown",
   "id": "9e483173",
   "metadata": {},
   "source": [
    "#### 6. What are the five levels of logging?"
   ]
  },
  {
   "cell_type": "code",
   "execution_count": 6,
   "id": "1c4f4d3a",
   "metadata": {},
   "outputs": [
    {
     "name": "stderr",
     "output_type": "stream",
     "text": [
      "DEBUG:root:This is a debug\n",
      "INFO:root:This is  a info\n",
      "WARNING:root:This is a warning\n",
      "ERROR:root:This is a error\n",
      "CRITICAL:root:This is a critical\n"
     ]
    }
   ],
   "source": [
    "import logging as lg\n",
    "logging.basicConfig(filenme='five_files.txt', format=\"%(asctime)s %(message)s\", mode='w')\n",
    "logger = lg.getLogger()\n",
    "\n",
    "#Below are the five levels\n",
    "logger.debug(\"This is a debug\")\n",
    "logger.info(\"This is  a info\")\n",
    "logger.warning(\"This is a warning\")\n",
    "logger.error(\"This is a error\")\n",
    "logger.critical(\"This is a critical\")"
   ]
  },
  {
   "cell_type": "markdown",
   "id": "9f12dbf0",
   "metadata": {},
   "source": [
    "#### 7. What line of code would you add to your software to disable all logging messages?"
   ]
  },
  {
   "cell_type": "code",
   "execution_count": 1,
   "id": "77240b32",
   "metadata": {},
   "outputs": [],
   "source": [
    "import logging\n",
    "logging.disable(logging.CRITICAL)"
   ]
  },
  {
   "cell_type": "markdown",
   "id": "55de310a",
   "metadata": {},
   "source": [
    "#### 8.Why is using logging messages better than using print() to display the same message?"
   ]
  },
  {
   "cell_type": "code",
   "execution_count": null,
   "id": "25bbacc5",
   "metadata": {},
   "outputs": [],
   "source": [
    "Below are the two advantages to use logging over print():\n",
    "1. In logging it is easy to see when and where a logging call is being made from.\n",
    "2. We can log files and sockets at the same time"
   ]
  },
  {
   "cell_type": "markdown",
   "id": "1dc6b96d",
   "metadata": {},
   "source": [
    "#### 9. What are the differences between the Step Over, Step In, and Step Out buttons in the debugger?"
   ]
  },
  {
   "cell_type": "code",
   "execution_count": null,
   "id": "5cdb66b3",
   "metadata": {},
   "outputs": [],
   "source": [
    "\"Step Over\" moves the debugger to the next line, \"step out\" means that debugger step out to the function and \"step in\" meeans that debugger step into the function."
   ]
  },
  {
   "cell_type": "markdown",
   "id": "bcace0ee",
   "metadata": {},
   "source": [
    "#### 10.After you click Continue, when will the debugger stop ?"
   ]
  },
  {
   "cell_type": "code",
   "execution_count": null,
   "id": "3627a9ce",
   "metadata": {},
   "outputs": [],
   "source": [
    "After cloicking the Continue, debugger will stop when the program ends."
   ]
  },
  {
   "cell_type": "markdown",
   "id": "919eabdb",
   "metadata": {},
   "source": [
    "#### 11. What is the concept of a breakpoint?"
   ]
  },
  {
   "cell_type": "code",
   "execution_count": null,
   "id": "4c2209ae",
   "metadata": {},
   "outputs": [],
   "source": [
    "breakpoint() function allows developers to set points  in code at which a debugger is"
   ]
  }
 ],
 "metadata": {
  "kernelspec": {
   "display_name": "Python 3",
   "language": "python",
   "name": "python3"
  },
  "language_info": {
   "codemirror_mode": {
    "name": "ipython",
    "version": 3
   },
   "file_extension": ".py",
   "mimetype": "text/x-python",
   "name": "python",
   "nbconvert_exporter": "python",
   "pygments_lexer": "ipython3",
   "version": "3.8.8"
  }
 },
 "nbformat": 4,
 "nbformat_minor": 5
}
