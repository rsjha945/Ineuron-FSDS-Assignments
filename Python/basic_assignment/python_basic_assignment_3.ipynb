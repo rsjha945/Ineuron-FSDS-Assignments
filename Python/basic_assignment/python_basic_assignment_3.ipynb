{
 "cells": [
  {
   "cell_type": "markdown",
   "id": "58dbe3fc",
   "metadata": {},
   "source": [
    "#### 1. Why are functions advantageous to have in your programs?"
   ]
  },
  {
   "cell_type": "code",
   "execution_count": null,
   "id": "649e57ed",
   "metadata": {},
   "outputs": [],
   "source": [
    "Functions reduce the need for duplicate of code. This makes the program shorter, more readable and easier to update."
   ]
  },
  {
   "cell_type": "markdown",
   "id": "05f1a9b7",
   "metadata": {},
   "source": [
    "#### 2. When does the code in a function run: when it's specified or when it's called?"
   ]
  },
  {
   "cell_type": "code",
   "execution_count": 1,
   "id": "a6d5e419",
   "metadata": {},
   "outputs": [
    {
     "data": {
      "text/plain": [
       "'This is a test function'"
      ]
     },
     "execution_count": 1,
     "metadata": {},
     "output_type": "execute_result"
    }
   ],
   "source": [
    "# A function executes when it is called.\n",
    "\n",
    "#eg.\n",
    "\n",
    "def test_func():\n",
    "\n",
    "    return \"This is a test function\"\n",
    "    \n",
    "test_func() #function calling\n",
    "\n",
    "#when the test_func() will be called then it will get inside the function test_func() and will executing the function. "
   ]
  },
  {
   "cell_type": "markdown",
   "id": "f4c3a2b5",
   "metadata": {},
   "source": [
    "#### 3. What statement creates a function?"
   ]
  },
  {
   "cell_type": "code",
   "execution_count": null,
   "id": "1c224232",
   "metadata": {},
   "outputs": [],
   "source": [
    "To create a function we must declare it and give it a name."
   ]
  },
  {
   "cell_type": "markdown",
   "id": "f7721d62",
   "metadata": {},
   "source": [
    "#### 4. What is the difference between a function and a function call?"
   ]
  },
  {
   "cell_type": "code",
   "execution_count": null,
   "id": "0ebb4048",
   "metadata": {},
   "outputs": [],
   "source": [
    "A function is a group of statements that together perform a task.\n",
    "A function call means invoking or calling that function. Unless a function is called there is no need of that function."
   ]
  },
  {
   "cell_type": "markdown",
   "id": "66e2ee75",
   "metadata": {},
   "source": [
    "#### 5. How many global scopes are there in a Python program? How many local scopes?"
   ]
  },
  {
   "cell_type": "code",
   "execution_count": null,
   "id": "f057fa3c",
   "metadata": {},
   "outputs": [],
   "source": [
    "There are four types of global scopes in Python:\n",
    "1. Local scope\n",
    "2. Global scope\n",
    "3. Enclosing scope\n",
    "4. Built-in scope"
   ]
  },
  {
   "cell_type": "markdown",
   "id": "d82fe363",
   "metadata": {},
   "source": [
    "#### 6. What happens to variables in a local scope when the function call returns?"
   ]
  },
  {
   "cell_type": "code",
   "execution_count": null,
   "id": "65ca5841",
   "metadata": {},
   "outputs": [],
   "source": [
    "When the function call returns the local variables are destroyed in a local scope"
   ]
  },
  {
   "cell_type": "markdown",
   "id": "a44164f4",
   "metadata": {},
   "source": [
    "#### 7. What is the concept of a return value? Is it possible to have a return value in an expression?"
   ]
  },
  {
   "cell_type": "code",
   "execution_count": null,
   "id": "829adf90",
   "metadata": {},
   "outputs": [],
   "source": [
    "A return statement is used to end the execution of the function call and returns the result to the caller.The statements after the return statements are not executed.\n",
    "Yes, it is possible to return value in an expression"
   ]
  },
  {
   "cell_type": "markdown",
   "id": "e7980c23",
   "metadata": {},
   "source": [
    "#### 8. If a function does not have a return statement, what is the return value of a call to that function?"
   ]
  },
  {
   "cell_type": "code",
   "execution_count": null,
   "id": "2eb56980",
   "metadata": {},
   "outputs": [],
   "source": [
    "If there is no return statment in the function code, the function ends, when the control flow reaches the end of the function body and the value \"NONE\" will be reurned."
   ]
  },
  {
   "cell_type": "markdown",
   "id": "6a24d4b7",
   "metadata": {},
   "source": [
    "#### 9. How do you make a function variable refer to the global variable?"
   ]
  },
  {
   "cell_type": "code",
   "execution_count": null,
   "id": "94cc5bbf",
   "metadata": {},
   "outputs": [],
   "source": [
    "To refer a global variable in a function we can use the \"global\" keyword to declare which variables are global"
   ]
  },
  {
   "cell_type": "markdown",
   "id": "e727762b",
   "metadata": {},
   "source": [
    "#### 10. What is the data type of None?"
   ]
  },
  {
   "cell_type": "code",
   "execution_count": null,
   "id": "d0c96a65",
   "metadata": {},
   "outputs": [],
   "source": [
    "The \"None\" keyword is used to define a null variable or an object. In Python, None keyword is an object, and it is a data type of the class \"NoneType\""
   ]
  },
  {
   "cell_type": "markdown",
   "id": "97414bfc",
   "metadata": {},
   "source": [
    "#### 11. What does the sentence import areallyourpetsnamederic do?"
   ]
  },
  {
   "cell_type": "code",
   "execution_count": null,
   "id": "4495b6a3",
   "metadata": {},
   "outputs": [],
   "source": [
    "The import statement imports a module named areallyourpetsnamederic."
   ]
  },
  {
   "cell_type": "markdown",
   "id": "9761dacc",
   "metadata": {},
   "source": [
    "#### 12. If you had a bacon() feature in a spam module, what would you call it after importing spam?"
   ]
  },
  {
   "cell_type": "code",
   "execution_count": null,
   "id": "fca83346",
   "metadata": {},
   "outputs": [],
   "source": [
    "After importing spam module bacon() function can be called with spam.bacon()"
   ]
  },
  {
   "cell_type": "markdown",
   "id": "e732a8e1",
   "metadata": {},
   "source": [
    "#### 13. What can you do to save a programme from crashing if it encounters an error?"
   ]
  },
  {
   "cell_type": "code",
   "execution_count": null,
   "id": "fc9844d4",
   "metadata": {},
   "outputs": [],
   "source": [
    "We can use \"Error handling\" to save a programme from crashing if it encounters an error."
   ]
  },
  {
   "cell_type": "markdown",
   "id": "62624dca",
   "metadata": {},
   "source": [
    "#### 14. What is the purpose of the try clause? What is the purpose of the except clause?"
   ]
  },
  {
   "cell_type": "code",
   "execution_count": null,
   "id": "5f48bc5f",
   "metadata": {},
   "outputs": [],
   "source": [
    "The code inside the try block will execute when there is no error in the program. \n",
    "\n",
    "Whereas the code inside the except block will execute whenever the program encounters some error. Except block is used to handle te error raised by the try block."
   ]
  }
 ],
 "metadata": {
  "kernelspec": {
   "display_name": "Python 3",
   "language": "python",
   "name": "python3"
  },
  "language_info": {
   "codemirror_mode": {
    "name": "ipython",
    "version": 3
   },
   "file_extension": ".py",
   "mimetype": "text/x-python",
   "name": "python",
   "nbconvert_exporter": "python",
   "pygments_lexer": "ipython3",
   "version": "3.8.8"
  }
 },
 "nbformat": 4,
 "nbformat_minor": 5
}
