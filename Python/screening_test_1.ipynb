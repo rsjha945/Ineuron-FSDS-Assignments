{
 "cells": [
  {
   "cell_type": "markdown",
   "id": "08fb35fb",
   "metadata": {},
   "source": [
    "## 1. Create a function in python to read the text file and replace specific content of the file.\n",
    "\n",
    "File name example.txt\n",
    "\n",
    "Origin file content -- This is a placement assignment\n",
    "\n",
    "Replace -- string Placement should be replaced by screening.\n",
    "\n",
    "Replaced file content This is a screening assignment"
   ]
  },
  {
   "cell_type": "code",
   "execution_count": 68,
   "id": "a0573f77",
   "metadata": {},
   "outputs": [],
   "source": [
    "import logging as lg\n",
    "def replace_content():\n",
    "    \"\"\"\n",
    "    in this function we are replacing assignment to screening of a text file.\n",
    "    \"\"\"\n",
    "    try:\n",
    "        lg.basicConfig(filename=\"log_file.log\",\n",
    "                    level=lg.DEBUG,\n",
    "                    format='%(asctime)s %(message)s',\n",
    "                    )\n",
    "        with open('example.txt','a+') as file:\n",
    "            file.write(\"This is a placement assignment\")\n",
    "            file.seek(0)\n",
    "            file_data = file.read()\n",
    "            file_data = file_data.replace('placement','screening')\n",
    "            file.truncate(0)\n",
    "            file.write(file_data)\n",
    "    except:\n",
    "        lg.error('file not found')\n",
    "    finally:\n",
    "        file.close()"
   ]
  },
  {
   "cell_type": "code",
   "execution_count": 69,
   "id": "df313361",
   "metadata": {},
   "outputs": [],
   "source": [
    "replace_content()"
   ]
  },
  {
   "cell_type": "markdown",
   "id": "ee418838",
   "metadata": {},
   "source": [
    "## 2. Demonstrate use of abstract class, multiple inheritance and decorator in python using examples."
   ]
  },
  {
   "cell_type": "markdown",
   "id": "487705ef",
   "metadata": {},
   "source": [
    "### abstract class"
   ]
  },
  {
   "cell_type": "markdown",
   "id": "bf05c531",
   "metadata": {},
   "source": [
    "A class is called an Abstract class if it contains one or more abstract methods. An abstract method is a method that is declared, but contains no implementation. Abstract classes may not be instantiated, and its abstract methods must be implemented by its subclasses."
   ]
  },
  {
   "cell_type": "code",
   "execution_count": 1,
   "id": "c45ceb9f",
   "metadata": {},
   "outputs": [],
   "source": [
    "from abc import ABC, abstractmethod\n",
    " \n",
    "class Shape(ABC):\n",
    "    def __init__(self, shape_name):\n",
    "        self.shape_name = shape_name\n",
    "    \n",
    "    @abstractmethod\n",
    "    def draw(self):\n",
    "        pass"
   ]
  },
  {
   "cell_type": "code",
   "execution_count": null,
   "id": "a9ec61b4",
   "metadata": {},
   "outputs": [],
   "source": [
    "from Shape import Shape\n",
    " \n",
    "class Circle(Shape):\n",
    "    def __init__(self):\n",
    "        super().__init__(\"circle\")\n",
    " \n",
    "    def draw(self):\n",
    "        print(\"Drawing a Circle\")"
   ]
  },
  {
   "cell_type": "code",
   "execution_count": null,
   "id": "86d29b53",
   "metadata": {},
   "outputs": [],
   "source": [
    "from Circle import Circle\n",
    "circle = Circle()\n",
    "circle.draw()"
   ]
  },
  {
   "cell_type": "markdown",
   "id": "161af8c4",
   "metadata": {},
   "source": [
    "### Multiple Inheritance"
   ]
  },
  {
   "cell_type": "markdown",
   "id": "b140146e",
   "metadata": {},
   "source": [
    "When a class is derived from more than one base class it is called multiple Inheritance.\n",
    "The derived class inherits all the features of the base case"
   ]
  },
  {
   "cell_type": "code",
   "execution_count": 6,
   "id": "bb839d3f",
   "metadata": {},
   "outputs": [
    {
     "name": "stdout",
     "output_type": "stream",
     "text": [
      "data analytics\n",
      "business analyst\n",
      "communication skill\n"
     ]
    }
   ],
   "source": [
    "class Communication_Skill:\n",
    "    def skill(self):\n",
    "        print(\"communication skill\")\n",
    "       \n",
    "class Data_Analyst(Communication_Skill):\n",
    "    def skill(self):\n",
    "        print(\"data analytics\")\n",
    " \n",
    "class Business_Analyst(Communication_Skill):\n",
    "    def skill(self):\n",
    "        print(\"business analyst\") \n",
    "        \n",
    "class Data_SCience(Data_Analyst, Business_Analyst):\n",
    "    pass  \n",
    "     \n",
    "obj = Data_SCience()\n",
    "obj.skill()\n",
    "\n",
    "Business_Analyst.skill(obj)\n",
    "#Data_Analyst.skill(obj)\n",
    "Communication_Skill.skill(obj)"
   ]
  },
  {
   "cell_type": "markdown",
   "id": "0e2dbe9a",
   "metadata": {},
   "source": [
    "### Decorator"
   ]
  },
  {
   "cell_type": "markdown",
   "id": "b71e4981",
   "metadata": {},
   "source": [
    "Decaorator allows us to modify the behaviour of a function or class. Decorators allow us to wrap another function in order to extend the behaviour of the wrapped function, without permanently modifying it."
   ]
  },
  {
   "cell_type": "code",
   "execution_count": 7,
   "id": "96d998db",
   "metadata": {},
   "outputs": [
    {
     "name": "stdout",
     "output_type": "stream",
     "text": [
      "25\n"
     ]
    }
   ],
   "source": [
    "def func_adder(x):\n",
    "    def adder(y):\n",
    "        return x+y\n",
    " \n",
    "    return adder\n",
    " \n",
    "add_15 = create_adder(15)\n",
    " \n",
    "print(add_15(10))"
   ]
  },
  {
   "cell_type": "code",
   "execution_count": null,
   "id": "545df905",
   "metadata": {},
   "outputs": [],
   "source": []
  }
 ],
 "metadata": {
  "kernelspec": {
   "display_name": "Python 3",
   "language": "python",
   "name": "python3"
  },
  "language_info": {
   "codemirror_mode": {
    "name": "ipython",
    "version": 3
   },
   "file_extension": ".py",
   "mimetype": "text/x-python",
   "name": "python",
   "nbconvert_exporter": "python",
   "pygments_lexer": "ipython3",
   "version": "3.8.8"
  }
 },
 "nbformat": 4,
 "nbformat_minor": 5
}
