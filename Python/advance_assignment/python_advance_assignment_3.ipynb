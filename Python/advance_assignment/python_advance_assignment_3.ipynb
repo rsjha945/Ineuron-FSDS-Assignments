{
 "cells": [
  {
   "cell_type": "markdown",
   "id": "99af6554",
   "metadata": {},
   "source": [
    "#### 1. What is the concept of an abstract superclass?"
   ]
  },
  {
   "cell_type": "markdown",
   "id": "b44e6aa6",
   "metadata": {},
   "source": [
    "A class is called an Abstract class if it contains one or more abstract methods. An abstract method is a method that is declared, but contains no implementation. Abstract classes may not be instantiated, and its abstract methods must be implemented by its subclasses."
   ]
  },
  {
   "cell_type": "markdown",
   "id": "e4fc1c7b",
   "metadata": {},
   "source": [
    "#### 2. What happens when a class statement's top level contains a basic assignment statement?\n",
    "\n"
   ]
  },
  {
   "cell_type": "markdown",
   "id": "117fbdb2",
   "metadata": {},
   "source": [
    "When a class statement's top level contains a basic assignment statement then that assignment will be shared among all the objects of that class. "
   ]
  },
  {
   "cell_type": "markdown",
   "id": "9aefa88a",
   "metadata": {},
   "source": [
    "#### 3. Why does a class need to manually call a superclass's __init__ method?"
   ]
  },
  {
   "cell_type": "markdown",
   "id": "ba8cbbe4",
   "metadata": {},
   "source": [
    "The main reason for always calling superclass's __init__ is that superclass may typically create member variable and initialize them to defaults. So if we don't call superclass init, none of that code would be executed and we would end up with super class that has no member variables."
   ]
  },
  {
   "cell_type": "markdown",
   "id": "79b913fa",
   "metadata": {},
   "source": [
    "#### 4. How can you augment, instead of completely replacing, an inherited method?"
   ]
  },
  {
   "cell_type": "code",
   "execution_count": null,
   "id": "74acfcdf",
   "metadata": {},
   "outputs": [],
   "source": []
  },
  {
   "cell_type": "markdown",
   "id": "c25aa6c7",
   "metadata": {},
   "source": [
    "#### 5. How is the local scope of a class different from that of a function?"
   ]
  },
  {
   "cell_type": "markdown",
   "id": "e483c1d4",
   "metadata": {},
   "source": [
    "A local variable is one that is only accessible to the current scope. Declaring a variable inside a function inside a class is a local scope. Function is accessible outside the class but local scope is asccessible within the class only."
   ]
  }
 ],
 "metadata": {
  "kernelspec": {
   "display_name": "Python 3",
   "language": "python",
   "name": "python3"
  },
  "language_info": {
   "codemirror_mode": {
    "name": "ipython",
    "version": 3
   },
   "file_extension": ".py",
   "mimetype": "text/x-python",
   "name": "python",
   "nbconvert_exporter": "python",
   "pygments_lexer": "ipython3",
   "version": "3.8.8"
  }
 },
 "nbformat": 4,
 "nbformat_minor": 5
}
