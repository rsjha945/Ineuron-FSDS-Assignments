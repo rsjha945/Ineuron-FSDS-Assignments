{
 "cells": [
  {
   "cell_type": "markdown",
   "id": "37052485",
   "metadata": {},
   "source": [
    "#### Q1. What is the meaning of multiple inheritance?"
   ]
  },
  {
   "cell_type": "markdown",
   "id": "7c5e8a68",
   "metadata": {},
   "source": [
    "Multiple inheritance is a feature of OOPS in which a class is derived from more than one base or parent class."
   ]
  },
  {
   "cell_type": "code",
   "execution_count": 9,
   "id": "d75ebb22",
   "metadata": {},
   "outputs": [
    {
     "name": "stdout",
     "output_type": "stream",
     "text": [
      "class3\n"
     ]
    }
   ],
   "source": [
    "class class1:\n",
    "    def m1(self):\n",
    "        print('class1')\n",
    "        \n",
    "class class2:\n",
    "    def m1(self):\n",
    "        print('class2')\n",
    "        \n",
    "class class3(class1, class2):\n",
    "    def m1(self):\n",
    "        print('class3')\n",
    "\n",
    "obj = class3()\n",
    "obj.m1()"
   ]
  },
  {
   "cell_type": "markdown",
   "id": "2bc6e9e9",
   "metadata": {},
   "source": [
    "#### Q2. What is the concept of delegation?\n",
    "\n"
   ]
  },
  {
   "cell_type": "code",
   "execution_count": null,
   "id": "dd74d850",
   "metadata": {},
   "outputs": [],
   "source": []
  }
 ],
 "metadata": {
  "kernelspec": {
   "display_name": "Python 3",
   "language": "python",
   "name": "python3"
  },
  "language_info": {
   "codemirror_mode": {
    "name": "ipython",
    "version": 3
   },
   "file_extension": ".py",
   "mimetype": "text/x-python",
   "name": "python",
   "nbconvert_exporter": "python",
   "pygments_lexer": "ipython3",
   "version": "3.8.8"
  }
 },
 "nbformat": 4,
 "nbformat_minor": 5
}
