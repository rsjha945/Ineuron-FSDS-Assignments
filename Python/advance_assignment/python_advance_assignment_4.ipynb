{
 "cells": [
  {
   "cell_type": "markdown",
   "id": "8715bf12",
   "metadata": {},
   "source": [
    "#### Q1. Which two operator overloading methods can you use in your classes to support iteration?"
   ]
  },
  {
   "cell_type": "markdown",
   "id": "aa5483d4",
   "metadata": {},
   "source": [
    "The **`__iter__`** returns the iterator object and is implicitly called at the start of loops. The **`__next__`** method returns the next value and is implicitly called at each loop increment"
   ]
  },
  {
   "cell_type": "markdown",
   "id": "78fab7f7",
   "metadata": {},
   "source": [
    "#### Q2. In what contexts do the two operator overloading methods manage printing?"
   ]
  },
  {
   "cell_type": "markdown",
   "id": "494633aa",
   "metadata": {},
   "source": [
    "**`__str__`** and **`__repr__`** are two operator overloading methods that manage printing.\n",
    "\n",
    "**->** str() is used to compute the informal string representation of a object while repair() is used to compute the official string representation of an object.\n",
    "\n",
    "**->** the goal of **`__repr__`** is to be unambiguous and **`__str__`** is to be readable."
   ]
  },
  {
   "cell_type": "markdown",
   "id": "1dc18b75",
   "metadata": {},
   "source": [
    "#### Q3. In a class, how do you intercept slice operations?"
   ]
  },
  {
   "cell_type": "markdown",
   "id": "89e0bd8e",
   "metadata": {},
   "source": [
    "In a class use of slice() in **`__getitem__`** method is used for intercept slice operation. This slice method is provided with start , stop and step integer number.\n",
    "\n",
    "**eg.**    **`__getitem__`**(slice(start, stop, step)) "
   ]
  },
  {
   "cell_type": "markdown",
   "id": "f7871eae",
   "metadata": {},
   "source": [
    "#### Q4. In a class, how do you capture in-place addition?"
   ]
  },
  {
   "cell_type": "markdown",
   "id": "a74df53f",
   "metadata": {},
   "source": [
    "**a+=b** is used to add and assign the current value. In python we have a inplace statement by which we can do the same **x = operator.iadd(x, y)**"
   ]
  },
  {
   "cell_type": "markdown",
   "id": "93100ae1",
   "metadata": {},
   "source": [
    "#### Q5. When is it appropriate to use operator overloading?"
   ]
  },
  {
   "cell_type": "markdown",
   "id": "4787e6c2",
   "metadata": {},
   "source": [
    "We can use operator overloading when we want to perform airthmetic operations on two or more then two user defined objects."
   ]
  },
  {
   "cell_type": "code",
   "execution_count": 9,
   "id": "b64f2449",
   "metadata": {},
   "outputs": [],
   "source": [
    "class operator_overload:\n",
    "    def __init__(self, a):\n",
    "        self.a = a\n",
    "    def __add__(self, b):\n",
    "        return self.a + b.a\n",
    "obj1 = operator_overload(5)\n",
    "obj2 = operator_overload(10)"
   ]
  },
  {
   "cell_type": "code",
   "execution_count": 10,
   "id": "0a06e025",
   "metadata": {},
   "outputs": [
    {
     "name": "stdout",
     "output_type": "stream",
     "text": [
      "15\n"
     ]
    }
   ],
   "source": [
    "print(obj1 + obj2)"
   ]
  }
 ],
 "metadata": {
  "kernelspec": {
   "display_name": "Python 3",
   "language": "python",
   "name": "python3"
  },
  "language_info": {
   "codemirror_mode": {
    "name": "ipython",
    "version": 3
   },
   "file_extension": ".py",
   "mimetype": "text/x-python",
   "name": "python",
   "nbconvert_exporter": "python",
   "pygments_lexer": "ipython3",
   "version": "3.8.8"
  }
 },
 "nbformat": 4,
 "nbformat_minor": 5
}
