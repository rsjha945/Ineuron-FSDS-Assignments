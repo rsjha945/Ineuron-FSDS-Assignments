{
 "cells": [
  {
   "cell_type": "markdown",
   "id": "825684b4",
   "metadata": {},
   "source": [
    "#### Q1. What is the relationship between classes and modules?"
   ]
  },
  {
   "cell_type": "markdown",
   "id": "bd7265a8",
   "metadata": {},
   "source": [
    "A __class__ is used to define a blueprint for a given object, whereas a __module__ is used to reuse a given piece of code inside another program."
   ]
  },
  {
   "cell_type": "markdown",
   "id": "433e5fdb",
   "metadata": {},
   "source": [
    "#### Q2. How do you make instances and classes?"
   ]
  },
  {
   "cell_type": "markdown",
   "id": "185c56d9",
   "metadata": {},
   "source": [
    "Using __class__ keyword we can create the class in python. To create an instance of a class we have to call className of that class and pass the parameters whatever arguments present in __init()__ method."
   ]
  },
  {
   "cell_type": "markdown",
   "id": "8c3e64aa",
   "metadata": {},
   "source": [
    "#### Q3. Where and how should be class attributes created?"
   ]
  },
  {
   "cell_type": "markdown",
   "id": "104d0504",
   "metadata": {},
   "source": [
    "class attributes are declared inside the class and outside the methods or functions. Class attributes should be called using the class name. Class attributes are shared among all the instances of that class."
   ]
  },
  {
   "cell_type": "markdown",
   "id": "bcae43d5",
   "metadata": {},
   "source": [
    "#### Q4. Where and how are instance attributes created?"
   ]
  },
  {
   "cell_type": "markdown",
   "id": "920fbe7f",
   "metadata": {},
   "source": [
    "Instance attributes are defined inside the __init()__ method of the class. Instance attributes are specific to the object."
   ]
  },
  {
   "cell_type": "markdown",
   "id": "150d27b1",
   "metadata": {},
   "source": [
    "#### Q5. What does the term \"self\" in a Python class mean?"
   ]
  },
  {
   "cell_type": "markdown",
   "id": "1835dbc1",
   "metadata": {},
   "source": [
    "Self is used to represent the instance of the class in python. With self keyword, we can access the attributes and methods of the class in python. It binds the attributes with the given arguments."
   ]
  },
  {
   "cell_type": "markdown",
   "id": "09871208",
   "metadata": {},
   "source": [
    "#### Q6. How does a Python class handle operator overloading?"
   ]
  },
  {
   "cell_type": "markdown",
   "id": "266a6e60",
   "metadata": {},
   "source": [
    "To perform operator overloading, Python provides some special function or magic function that is automatically invoked when it is associated with that particular operator. \n",
    "\n",
    "For example, when we use + operator, the magic method __add__ is automatically invoked in which the operation for + operator is defined"
   ]
  },
  {
   "cell_type": "markdown",
   "id": "9a4b394d",
   "metadata": {},
   "source": [
    "#### Q7. When do you consider allowing operator overloading of your classes?"
   ]
  },
  {
   "cell_type": "markdown",
   "id": "51f507de",
   "metadata": {},
   "source": [
    "When we have to perform any airthmetic operations on two or more than two objects then we should consider operator overloading."
   ]
  },
  {
   "cell_type": "markdown",
   "id": "be493145",
   "metadata": {},
   "source": [
    "#### Q8. What is the most popular form of operator overloading?"
   ]
  },
  {
   "cell_type": "markdown",
   "id": "12ab9cf0",
   "metadata": {},
   "source": [
    "__+__ (addition) is the most popular form of operator overloading"
   ]
  },
  {
   "cell_type": "markdown",
   "id": "bd2d2b58",
   "metadata": {},
   "source": [
    "#### Q9. What are the two most important concepts to grasp in order to comprehend Python OOP code? "
   ]
  },
  {
   "cell_type": "markdown",
   "id": "f87b7ce0",
   "metadata": {},
   "source": [
    "__inheritance__ and __plymorphism__ are the two most important concepts to grasp in order to comprehend Python OOP code."
   ]
  }
 ],
 "metadata": {
  "kernelspec": {
   "display_name": "Python 3",
   "language": "python",
   "name": "python3"
  },
  "language_info": {
   "codemirror_mode": {
    "name": "ipython",
    "version": 3
   },
   "file_extension": ".py",
   "mimetype": "text/x-python",
   "name": "python",
   "nbconvert_exporter": "python",
   "pygments_lexer": "ipython3",
   "version": "3.8.8"
  }
 },
 "nbformat": 4,
 "nbformat_minor": 5
}
