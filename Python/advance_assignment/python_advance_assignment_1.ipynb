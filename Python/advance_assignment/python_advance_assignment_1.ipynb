{
 "cells": [
  {
   "cell_type": "markdown",
   "id": "0fa06bfc",
   "metadata": {},
   "source": [
    "#### Q1. What is the purpose of Python's OOP?"
   ]
  },
  {
   "cell_type": "markdown",
   "id": "9ce4833a",
   "metadata": {},
   "source": [
    "In Python OOPS is a programming paradigm that uses objects and classes in programming. OOPs implements the real world entities like Inheritance, Polymorphism, Abstraction, Encapsulation."
   ]
  },
  {
   "cell_type": "markdown",
   "id": "804fda48",
   "metadata": {},
   "source": [
    "#### Q2. Where does an inheritance search look for an attribute?"
   ]
  },
  {
   "cell_type": "markdown",
   "id": "53170e79",
   "metadata": {},
   "source": [
    "Inheritance search of the tree from bottom to top looking for the lowest occurrence of an attribute name."
   ]
  },
  {
   "cell_type": "markdown",
   "id": "dfe31f74",
   "metadata": {},
   "source": [
    "#### Q3. How do you distinguish between a class object and an instance object?"
   ]
  },
  {
   "cell_type": "markdown",
   "id": "0da2a2d8",
   "metadata": {},
   "source": [
    "Python is a OOPS programming language. Almost everything in python is a object with its properties and methods.Class object is a copy of the class from class object we can access attributes of the class.\n",
    "Instance object belongs to the class."
   ]
  },
  {
   "cell_type": "markdown",
   "id": "659fbe39",
   "metadata": {},
   "source": [
    "#### Q4. What makes the first argument in a class’s method function special?"
   ]
  },
  {
   "cell_type": "markdown",
   "id": "77d48577",
   "metadata": {},
   "source": [
    "First argument in a class's methods function represents the instance of the class eg. self. From self we can access the attributes and methods of the class. self binds the attributes with the given arguments."
   ]
  },
  {
   "cell_type": "markdown",
   "id": "54db7373",
   "metadata": {},
   "source": [
    "#### Q5. What is the purpose of the __init__ method? "
   ]
  },
  {
   "cell_type": "markdown",
   "id": "b30ee339",
   "metadata": {},
   "source": [
    "The __init__ method is similar to constructor. Constructors are used to initialize the object’s state. The task of constructors is to initialize to the data members of the class when an object of class is created."
   ]
  },
  {
   "cell_type": "markdown",
   "id": "5eab0017",
   "metadata": {},
   "source": [
    "#### Q6. What is the process for creating a class instance?"
   ]
  },
  {
   "cell_type": "markdown",
   "id": "e15b6b48",
   "metadata": {},
   "source": [
    "When we create a object, we are creating instance of the class. To pass the parameters of the class instance we must have __init__() method in class."
   ]
  },
  {
   "cell_type": "markdown",
   "id": "c2ad4b36",
   "metadata": {},
   "source": [
    "#### Q7. What is the process for creating a class?"
   ]
  },
  {
   "cell_type": "markdown",
   "id": "eacab097",
   "metadata": {},
   "source": [
    "To create a class in python give class keyord and class name. Create constructor of the class using __init__() method.\n",
    "Define some attributes, methods,  or functions in the class. The first parameter of the function should be self.\n",
    "Now create the object of the class to access the class attributes."
   ]
  },
  {
   "cell_type": "markdown",
   "id": "b6502e4f",
   "metadata": {},
   "source": [
    "#### Q8. How would you define the superclasses of a class?"
   ]
  },
  {
   "cell_type": "markdown",
   "id": "0ad2a4d5",
   "metadata": {},
   "source": [
    "A superclass is the class from which many subclasses can be created. The subclasses inherit the characteristics of a superclass. The superclass is also known as the parent class or base class"
   ]
  }
 ],
 "metadata": {
  "kernelspec": {
   "display_name": "Python 3",
   "language": "python",
   "name": "python3"
  },
  "language_info": {
   "codemirror_mode": {
    "name": "ipython",
    "version": 3
   },
   "file_extension": ".py",
   "mimetype": "text/x-python",
   "name": "python",
   "nbconvert_exporter": "python",
   "pygments_lexer": "ipython3",
   "version": "3.8.8"
  }
 },
 "nbformat": 4,
 "nbformat_minor": 5
}
